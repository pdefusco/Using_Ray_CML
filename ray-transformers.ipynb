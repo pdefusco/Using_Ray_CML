{
 "cells": [
  {
   "cell_type": "code",
   "execution_count": 33,
   "id": "31b4a652-6b21-4d46-a515-17aca277f889",
   "metadata": {},
   "outputs": [],
   "source": [
    "#!pip3 install -I git+https://github.com/cloudera/cmlextensions.git\n",
    "#!pip3 install -I ray\n",
    "#!pip3 install -I modin[ray]\n",
    "#!pip3 install transformers datasets scipy sklearn torch\n",
    "#!pip3 install transformers[torch]\n",
    "#!pip3 install accelerate -U\n",
    "#!pip3 install ray[client]\n",
    "#!pip3 install ray[tune]"
   ]
  },
  {
   "cell_type": "code",
   "execution_count": 1,
   "id": "a0557608-6375-4137-991c-ef0d3b14c7a1",
   "metadata": {},
   "outputs": [
    {
     "name": "stdout",
     "output_type": "stream",
     "text": [
      "/bin/bash: nvidia-smi: command not found\n"
     ]
    }
   ],
   "source": [
    "!nvidia-smi"
   ]
  },
  {
   "cell_type": "code",
   "execution_count": 2,
   "id": "1908026f-7036-47a9-b19e-7e61759d42c8",
   "metadata": {},
   "outputs": [
    {
     "name": "stderr",
     "output_type": "stream",
     "text": [
      "/home/cdsw/.local/lib/python3.9/site-packages/tqdm/auto.py:21: TqdmWarning: IProgress not found. Please update jupyter and ipywidgets. See https://ipywidgets.readthedocs.io/en/stable/user_install.html\n",
      "  from .autonotebook import tqdm as notebook_tqdm\n",
      "2023-09-28 16:39:01,045\tINFO util.py:159 -- Missing packages: ['ipywidgets']. Run `pip install -U ipywidgets`, then restart the notebook server for rich notebook output.\n"
     ]
    }
   ],
   "source": [
    "import cmlextensions.ray_cluster as rc\n",
    "import cmlapi\n",
    "import os\n",
    "import json\n",
    "from pprint import pprint\n",
    "import ray"
   ]
  },
  {
   "cell_type": "code",
   "execution_count": 3,
   "id": "c3c0caeb-b6b8-4695-ba81-1b4c1a3e897b",
   "metadata": {},
   "outputs": [],
   "source": [
    "# Set the setup variables needed by CML APIv2\n",
    "HOST = os.getenv(\"CDSW_API_URL\").split(\":\")[0] + \"://\" + os.getenv(\"CDSW_DOMAIN\")\n",
    "USERNAME = os.getenv(\"CDSW_PROJECT_URL\").split(\"/\")[6]  # args.username  # \"vdibia\"\n",
    "API_KEY = os.getenv(\"CDSW_APIV2_KEY\")\n",
    "PROJECT_NAME = os.getenv(\"CDSW_PROJECT\")\n",
    "PROJECT_ID=os.getenv(\"CDSW_PROJECT_ID\")\n",
    "\n",
    "cml = cmlapi.default_client(url=HOST,cml_api_key=API_KEY)\n",
    "\n",
    "def set_environ(Cml,Item,Value):\n",
    "    Project=Cml.get_project(os.getenv(\"CDSW_PROJECT_ID\"))\n",
    "    if Project.environment=='':\n",
    "        Project_Environment={}\n",
    "    else:\n",
    "        Project_Environment=json.loads(Project.environment)\n",
    "    Project_Environment[Item]=Value\n",
    "    Project.environment=json.dumps(Project_Environment)\n",
    "    Cml.update_project(Project,project_id=os.getenv(\"CDSW_PROJECT_ID\"))\n",
    "\n",
    "def get_environ(Cml,Item):\n",
    "    Project=Cml.get_project(os.getenv(\"CDSW_PROJECT_ID\"))\n",
    "    Project_Environment=json.loads(Project.environment)\n",
    "    return Project_Environment[Item]"
   ]
  },
  {
   "cell_type": "code",
   "execution_count": null,
   "id": "7bb87f0e-e385-476f-b98c-1067d6e8dce5",
   "metadata": {},
   "outputs": [
    {
     "name": "stdout",
     "output_type": "stream",
     "text": [
      "Starting ray head...\n",
      "Starting 2 ray workers...\n"
     ]
    }
   ],
   "source": [
    "cluster = rc.RayCluster( num_workers=2,\n",
    "                         worker_cpu=2, worker_memory=4, worker_nvidia_gpu=2, \n",
    "                         head_cpu=2, head_memory=4, head_nvidia_gpu=0                       \n",
    "                       )\n",
    "cluster.init()\n",
    "set_environ(cml,\"RAY_ADDRESS\",cluster.get_client_url())"
   ]
  },
  {
   "cell_type": "code",
   "execution_count": 38,
   "id": "31cb2b26-3737-4c3e-9212-a3f6a2b5513f",
   "metadata": {},
   "outputs": [],
   "source": [
    "GLUE_TASKS = [\n",
    "    \"cola\",\n",
    "    \"mnli\",\n",
    "    \"mnli-mm\",\n",
    "    \"mrpc\",\n",
    "    \"qnli\",\n",
    "    \"qqp\",\n",
    "    \"rte\",\n",
    "    \"sst2\",\n",
    "    \"stsb\",\n",
    "    \"wnli\",\n",
    "]"
   ]
  },
  {
   "cell_type": "code",
   "execution_count": 39,
   "id": "9ac55477-bfb2-4793-b68b-2e09fbb9cf76",
   "metadata": {},
   "outputs": [],
   "source": [
    "task = \"cola\"\n",
    "model_checkpoint = \"distilbert-base-uncased\"\n",
    "batch_size = 16"
   ]
  },
  {
   "cell_type": "code",
   "execution_count": 40,
   "id": "7b69a88a-e899-416a-b1ae-0ae3ee9599ac",
   "metadata": {},
   "outputs": [],
   "source": [
    "from datasets import load_dataset\n",
    "\n",
    "actual_task = \"mnli\" if task == \"mnli-mm\" else task\n",
    "datasets = load_dataset(\"glue\", actual_task)"
   ]
  },
  {
   "cell_type": "code",
   "execution_count": 41,
   "id": "1577f397-1675-483b-a0c3-f631c4bd0d9a",
   "metadata": {},
   "outputs": [],
   "source": [
    "from transformers import AutoTokenizer\n",
    "\n",
    "tokenizer = AutoTokenizer.from_pretrained(model_checkpoint, use_fast=True)"
   ]
  },
  {
   "cell_type": "code",
   "execution_count": 42,
   "id": "c4b4f2f3-0204-4b7f-87b7-a504f1dc736d",
   "metadata": {},
   "outputs": [],
   "source": [
    "task_to_keys = {\n",
    "    \"cola\": (\"sentence\", None),\n",
    "    \"mnli\": (\"premise\", \"hypothesis\"),\n",
    "    \"mnli-mm\": (\"premise\", \"hypothesis\"),\n",
    "    \"mrpc\": (\"sentence1\", \"sentence2\"),\n",
    "    \"qnli\": (\"question\", \"sentence\"),\n",
    "    \"qqp\": (\"question1\", \"question2\"),\n",
    "    \"rte\": (\"sentence1\", \"sentence2\"),\n",
    "    \"sst2\": (\"sentence\", None),\n",
    "    \"stsb\": (\"sentence1\", \"sentence2\"),\n",
    "    \"wnli\": (\"sentence1\", \"sentence2\"),\n",
    "}"
   ]
  },
  {
   "cell_type": "code",
   "execution_count": 43,
   "id": "08fa22fd-9dd1-4f6f-a070-16cd33237b4e",
   "metadata": {},
   "outputs": [
    {
     "data": {
      "text/html": [
       "<div class=\"lm-Widget p-Widget lm-Panel p-Panel jp-Cell-outputWrapper\">\n",
       "    <div style=\"margin-left: 50px;display: flex;flex-direction: row;align-items: center\">\n",
       "        <div class=\"jp-RenderedHTMLCommon\" style=\"display: flex; flex-direction: row;\">\n",
       "  <svg viewBox=\"0 0 567 224\" fill=\"none\" xmlns=\"http://www.w3.org/2000/svg\" style=\"height: 3em;\">\n",
       "    <g clip-path=\"url(#clip0_4338_178347)\">\n",
       "        <path d=\"M341.29 165.561H355.29L330.13 129.051C345.63 123.991 354.21 112.051 354.21 94.2307C354.21 71.3707 338.72 58.1807 311.88 58.1807H271V165.561H283.27V131.661H311.8C314.25 131.661 316.71 131.501 319.01 131.351L341.25 165.561H341.29ZM283.29 119.851V70.0007H311.82C331.3 70.0007 342.34 78.2907 342.34 94.5507C342.34 111.271 331.34 119.861 311.82 119.861L283.29 119.851ZM451.4 138.411L463.4 165.561H476.74L428.74 58.1807H416L367.83 165.561H380.83L392.83 138.411H451.4ZM446.19 126.601H398L422 72.1407L446.24 126.601H446.19ZM526.11 128.741L566.91 58.1807H554.35L519.99 114.181L485.17 58.1807H472.44L514.01 129.181V165.541H526.13V128.741H526.11Z\" fill=\"var(--jp-ui-font-color0)\"/>\n",
       "        <path d=\"M82.35 104.44C84.0187 97.8827 87.8248 92.0678 93.1671 87.9146C98.5094 83.7614 105.083 81.5067 111.85 81.5067C118.617 81.5067 125.191 83.7614 130.533 87.9146C135.875 92.0678 139.681 97.8827 141.35 104.44H163.75C164.476 101.562 165.622 98.8057 167.15 96.2605L127.45 56.5605C121.071 60.3522 113.526 61.6823 106.235 60.3005C98.9443 58.9187 92.4094 54.9203 87.8602 49.0574C83.3109 43.1946 81.0609 35.8714 81.5332 28.4656C82.0056 21.0599 85.1679 14.0819 90.4252 8.8446C95.6824 3.60726 102.672 0.471508 110.08 0.0272655C117.487 -0.416977 124.802 1.86091 130.647 6.4324C136.493 11.0039 140.467 17.5539 141.821 24.8501C143.175 32.1463 141.816 39.6859 138 46.0505L177.69 85.7505C182.31 82.9877 187.58 81.4995 192.962 81.4375C198.345 81.3755 203.648 82.742 208.33 85.3976C213.012 88.0532 216.907 91.9029 219.616 96.5544C222.326 101.206 223.753 106.492 223.753 111.875C223.753 117.258 222.326 122.545 219.616 127.197C216.907 131.848 213.012 135.698 208.33 138.353C203.648 141.009 198.345 142.375 192.962 142.313C187.58 142.251 182.31 140.763 177.69 138L138 177.7C141.808 184.071 143.155 191.614 141.79 198.91C140.424 206.205 136.44 212.75 130.585 217.313C124.731 221.875 117.412 224.141 110.004 223.683C102.596 223.226 95.6103 220.077 90.3621 214.828C85.1139 209.58 81.9647 202.595 81.5072 195.187C81.0497 187.779 83.3154 180.459 87.878 174.605C92.4405 168.751 98.9853 164.766 106.281 163.401C113.576 162.035 121.119 163.383 127.49 167.19L167.19 127.49C165.664 124.941 164.518 122.182 163.79 119.3H141.39C139.721 125.858 135.915 131.673 130.573 135.826C125.231 139.98 118.657 142.234 111.89 142.234C105.123 142.234 98.5494 139.98 93.2071 135.826C87.8648 131.673 84.0587 125.858 82.39 119.3H60C58.1878 126.495 53.8086 132.78 47.6863 136.971C41.5641 141.163 34.1211 142.972 26.7579 142.059C19.3947 141.146 12.6191 137.574 7.70605 132.014C2.79302 126.454 0.0813599 119.29 0.0813599 111.87C0.0813599 104.451 2.79302 97.2871 7.70605 91.7272C12.6191 86.1673 19.3947 82.5947 26.7579 81.6817C34.1211 80.7686 41.5641 82.5781 47.6863 86.7696C53.8086 90.9611 58.1878 97.2456 60 104.44H82.35ZM100.86 204.32C103.407 206.868 106.759 208.453 110.345 208.806C113.93 209.159 117.527 208.258 120.522 206.256C123.517 204.254 125.725 201.276 126.771 197.828C127.816 194.38 127.633 190.677 126.253 187.349C124.874 184.021 122.383 181.274 119.205 179.577C116.027 177.88 112.359 177.337 108.826 178.042C105.293 178.746 102.113 180.654 99.8291 183.44C97.5451 186.226 96.2979 189.718 96.3 193.32C96.2985 195.364 96.7006 197.388 97.4831 199.275C98.2656 201.163 99.4132 202.877 100.86 204.32ZM204.32 122.88C206.868 120.333 208.453 116.981 208.806 113.396C209.159 109.811 208.258 106.214 206.256 103.219C204.254 100.223 201.275 98.0151 197.827 96.97C194.38 95.9249 190.676 96.1077 187.348 97.4873C184.02 98.8669 181.274 101.358 179.577 104.536C177.879 107.714 177.337 111.382 178.041 114.915C178.746 118.448 180.653 121.627 183.439 123.911C186.226 126.195 189.717 127.443 193.32 127.44C195.364 127.443 197.388 127.042 199.275 126.259C201.163 125.476 202.878 124.328 204.32 122.88ZM122.88 19.4205C120.333 16.8729 116.981 15.2876 113.395 14.9347C109.81 14.5817 106.213 15.483 103.218 17.4849C100.223 19.4868 98.0146 22.4654 96.9696 25.9131C95.9245 29.3608 96.1073 33.0642 97.4869 36.3922C98.8665 39.7202 101.358 42.4668 104.535 44.1639C107.713 45.861 111.381 46.4036 114.914 45.6992C118.447 44.9949 121.627 43.0871 123.911 40.301C126.195 37.515 127.442 34.0231 127.44 30.4205C127.44 28.3772 127.038 26.3539 126.255 24.4664C125.473 22.5788 124.326 20.8642 122.88 19.4205ZM19.42 100.86C16.8725 103.408 15.2872 106.76 14.9342 110.345C14.5813 113.93 15.4826 117.527 17.4844 120.522C19.4863 123.518 22.4649 125.726 25.9127 126.771C29.3604 127.816 33.0638 127.633 36.3918 126.254C39.7198 124.874 42.4664 122.383 44.1635 119.205C45.8606 116.027 46.4032 112.359 45.6988 108.826C44.9944 105.293 43.0866 102.114 40.3006 99.8296C37.5145 97.5455 34.0227 96.2983 30.42 96.3005C26.2938 96.3018 22.337 97.9421 19.42 100.86ZM100.86 100.86C98.3125 103.408 96.7272 106.76 96.3742 110.345C96.0213 113.93 96.9226 117.527 98.9244 120.522C100.926 123.518 103.905 125.726 107.353 126.771C110.8 127.816 114.504 127.633 117.832 126.254C121.16 124.874 123.906 122.383 125.604 119.205C127.301 116.027 127.843 112.359 127.139 108.826C126.434 105.293 124.527 102.114 121.741 99.8296C118.955 97.5455 115.463 96.2983 111.86 96.3005C109.817 96.299 107.793 96.701 105.905 97.4835C104.018 98.2661 102.303 99.4136 100.86 100.86Z\" fill=\"#00AEEF\"/>\n",
       "    </g>\n",
       "    <defs>\n",
       "        <clipPath id=\"clip0_4338_178347\">\n",
       "            <rect width=\"566.93\" height=\"223.75\" fill=\"white\"/>\n",
       "        </clipPath>\n",
       "    </defs>\n",
       "  </svg>\n",
       "</div>\n",
       "\n",
       "        <table class=\"jp-RenderedHTMLCommon\" style=\"border-collapse: collapse;color: var(--jp-ui-font-color1);font-size: var(--jp-ui-font-size1);\">\n",
       "    <tr>\n",
       "        <td style=\"text-align: left\"><b>Python version:</b></td>\n",
       "        <td style=\"text-align: left\"><b>3.9.11</b></td>\n",
       "    </tr>\n",
       "    <tr>\n",
       "        <td style=\"text-align: left\"><b>Ray version:</b></td>\n",
       "        <td style=\"text-align: left\"><b>2.7.0</b></td>\n",
       "    </tr>\n",
       "    <tr>\n",
       "    <td style=\"text-align: left\"><b>Dashboard:</b></td>\n",
       "    <td style=\"text-align: left\"><b><a href=\"http://127.0.0.1:8090\" target=\"_blank\">http://127.0.0.1:8090</a></b></td>\n",
       "</tr>\n",
       "\n",
       "</table>\n",
       "\n",
       "    </div>\n",
       "</div>\n"
      ],
      "text/plain": [
       "ClientContext(dashboard_url='127.0.0.1:8090', python_version='3.9.11', ray_version='2.7.0', ray_commit='b4bba4717f5ba04ee25580fe8f88eed63ef0c5dc', protocol_version='2023-06-27', _num_clients=1, _context_to_restore=<ray.util.client._ClientContext object at 0x7f95b2a48e20>)"
      ]
     },
     "execution_count": 43,
     "metadata": {},
     "output_type": "execute_result"
    }
   ],
   "source": [
    "runtime_env = {\"pip\":[\"pytz\",\"python-dateutil\"], \"env_vars\": {\"CUDA_VISIBLE_DEVICES\": \"0\"}}\n",
    "\n",
    "ray.init(address=cluster.get_client_url(),runtime_env=runtime_env)"
   ]
  },
  {
   "cell_type": "code",
   "execution_count": 44,
   "id": "551ab8e8-e3b5-48cd-a5d2-06dc0f56fc97",
   "metadata": {},
   "outputs": [
    {
     "data": {
      "text/plain": [
       "{'train': MaterializedDataset(\n",
       "    num_blocks=1,\n",
       "    num_rows=8551,\n",
       "    schema={sentence: string, label: int64, idx: int32}\n",
       " ),\n",
       " 'validation': MaterializedDataset(\n",
       "    num_blocks=1,\n",
       "    num_rows=1043,\n",
       "    schema={sentence: string, label: int64, idx: int32}\n",
       " ),\n",
       " 'test': MaterializedDataset(\n",
       "    num_blocks=1,\n",
       "    num_rows=1063,\n",
       "    schema={sentence: string, label: int64, idx: int32}\n",
       " )}"
      ]
     },
     "execution_count": 44,
     "metadata": {},
     "output_type": "execute_result"
    }
   ],
   "source": [
    "import ray.data\n",
    "\n",
    "ray_datasets = {\n",
    "    \"train\": ray.data.from_huggingface(datasets[\"train\"]),\n",
    "    \"validation\": ray.data.from_huggingface(datasets[\"validation\"]),\n",
    "    \"test\": ray.data.from_huggingface(datasets[\"test\"]),\n",
    "}\n",
    "ray_datasets"
   ]
  },
  {
   "cell_type": "code",
   "execution_count": 45,
   "id": "b8c98f43-051c-48fa-94ca-63fb3488fe95",
   "metadata": {},
   "outputs": [],
   "source": [
    "import numpy as np\n",
    "from typing import Dict\n",
    "\n",
    "\n",
    "# Tokenize input sentences\n",
    "def collate_fn(examples: Dict[str, np.array]):\n",
    "    sentence1_key, sentence2_key = task_to_keys[task]\n",
    "    if sentence2_key is None:\n",
    "        outputs = tokenizer(\n",
    "            list(examples[sentence1_key]),\n",
    "            truncation=True,\n",
    "            padding=\"longest\",\n",
    "            return_tensors=\"pt\",\n",
    "        )\n",
    "    else:\n",
    "        outputs = tokenizer(\n",
    "            list(examples[sentence1_key]),\n",
    "            list(examples[sentence2_key]),\n",
    "            truncation=True,\n",
    "            padding=\"longest\",\n",
    "            return_tensors=\"pt\",\n",
    "        )\n",
    "\n",
    "    outputs[\"labels\"] = torch.LongTensor(examples[\"label\"])\n",
    "\n",
    "    # Move all input tensors to GPU\n",
    "    for key, value in outputs.items():\n",
    "        outputs[key] = value.cuda()\n",
    "\n",
    "    return outputs"
   ]
  },
  {
   "cell_type": "code",
   "execution_count": 46,
   "id": "43e54603-f783-4448-ab46-326506384391",
   "metadata": {},
   "outputs": [],
   "source": [
    "import torch\n",
    "import numpy as np\n",
    "\n",
    "from datasets import load_metric\n",
    "from transformers import AutoModelForSequenceClassification, TrainingArguments, Trainer\n",
    "\n",
    "import ray.train\n",
    "from ray.train.huggingface.transformers import prepare_trainer, RayTrainReportCallback\n",
    "\n",
    "num_labels = 3 if task.startswith(\"mnli\") else 1 if task == \"stsb\" else 2\n",
    "metric_name = (\n",
    "    \"pearson\"\n",
    "    if task == \"stsb\"\n",
    "    else \"matthews_correlation\"\n",
    "    if task == \"cola\"\n",
    "    else \"accuracy\"\n",
    ")\n",
    "model_name = model_checkpoint.split(\"/\")[-1]\n",
    "validation_key = (\n",
    "    \"validation_mismatched\"\n",
    "    if task == \"mnli-mm\"\n",
    "    else \"validation_matched\"\n",
    "    if task == \"mnli\"\n",
    "    else \"validation\"\n",
    ")\n",
    "name = f\"{model_name}-finetuned-{task}\"\n",
    "\n",
    "# Calculate the maximum steps per epoch based on the number of rows in the training dataset.\n",
    "# Make sure to scale by the total number of training workers and the per device batch size.\n",
    "max_steps_per_epoch = ray_datasets[\"train\"].count() // (batch_size * cluster.num_workers)\n",
    "\n",
    "\n",
    "def train_func(config):\n",
    "    print(f\"Is CUDA available: {torch.cuda.is_available()}\")\n",
    "\n",
    "    metric = load_metric(\"glue\", actual_task)\n",
    "    tokenizer = AutoTokenizer.from_pretrained(model_checkpoint, use_fast=True)\n",
    "    model = AutoModelForSequenceClassification.from_pretrained(\n",
    "        model_checkpoint, num_labels=num_labels\n",
    "    )\n",
    "\n",
    "    train_ds = ray.train.get_dataset_shard(\"train\")\n",
    "    eval_ds = ray.train.get_dataset_shard(\"eval\")\n",
    "\n",
    "    train_ds_iterable = train_ds.iter_torch_batches(\n",
    "        batch_size=batch_size, collate_fn=collate_fn\n",
    "    )\n",
    "    eval_ds_iterable = eval_ds.iter_torch_batches(\n",
    "        batch_size=batch_size, collate_fn=collate_fn\n",
    "    )\n",
    "\n",
    "    print(\"max_steps_per_epoch: \", max_steps_per_epoch)\n",
    "\n",
    "    args = TrainingArguments(\n",
    "        name,\n",
    "        evaluation_strategy=\"epoch\",\n",
    "        save_strategy=\"epoch\",\n",
    "        logging_strategy=\"epoch\",\n",
    "        per_device_train_batch_size=batch_size,\n",
    "        per_device_eval_batch_size=batch_size,\n",
    "        learning_rate=config.get(\"learning_rate\", 2e-5),\n",
    "        num_train_epochs=config.get(\"epochs\", 2),\n",
    "        weight_decay=config.get(\"weight_decay\", 0.01),\n",
    "        push_to_hub=False,\n",
    "        max_steps=max_steps_per_epoch * config.get(\"epochs\", 2),\n",
    "        disable_tqdm=True,  # declutter the output a little\n",
    "        use_cpu=False,  # you need to explicitly set no_cuda if you want CPUs\n",
    "        report_to=\"none\",\n",
    "    )\n",
    "\n",
    "    def compute_metrics(eval_pred):\n",
    "        predictions, labels = eval_pred\n",
    "        if task != \"stsb\":\n",
    "            predictions = np.argmax(predictions, axis=1)\n",
    "        else:\n",
    "            predictions = predictions[:, 0]\n",
    "        return metric.compute(predictions=predictions, references=labels)\n",
    "\n",
    "    trainer = Trainer(\n",
    "        model,\n",
    "        args,\n",
    "        train_dataset=train_ds_iterable,\n",
    "        eval_dataset=eval_ds_iterable,\n",
    "        tokenizer=tokenizer,\n",
    "        compute_metrics=compute_metrics,\n",
    "    )\n",
    "\n",
    "    trainer.add_callback(RayTrainReportCallback())\n",
    "\n",
    "    trainer = prepare_trainer(trainer)\n",
    "\n",
    "    print(\"Starting training\")\n",
    "    trainer.train()"
   ]
  },
  {
   "cell_type": "code",
   "execution_count": 47,
   "id": "949684e6-7dd1-4352-abc2-d8d573852bf7",
   "metadata": {},
   "outputs": [],
   "source": [
    "from ray.train.torch import TorchTrainer\n",
    "from ray.train import RunConfig, ScalingConfig, CheckpointConfig\n",
    "\n",
    "trainer = TorchTrainer(\n",
    "    train_func,\n",
    "    scaling_config=ScalingConfig(num_workers=cluster.num_workers, use_gpu=True),\n",
    "    datasets={\n",
    "        \"train\": ray_datasets[\"train\"],\n",
    "        \"eval\": ray_datasets[\"validation\"],\n",
    "    },\n",
    "    run_config=RunConfig(\n",
    "        checkpoint_config=CheckpointConfig(\n",
    "            num_to_keep=1,\n",
    "            checkpoint_score_attribute=\"eval_loss\",\n",
    "            checkpoint_score_order=\"min\",\n",
    "        ),\n",
    "    ),\n",
    ")"
   ]
  },
  {
   "cell_type": "code",
   "execution_count": 48,
   "id": "a773ae68-ffdc-4fad-ae2f-d81479bc57c0",
   "metadata": {},
   "outputs": [
    {
     "data": {
      "text/plain": [
       "{'workers': [{'id': 't5qfwn00tfinvecn',\n",
       "   'name': 'Ray Worker',\n",
       "   'project': {'id': 1626,\n",
       "    'name': 'Using Ray CML',\n",
       "    'slug': 'pauldefusco/using-ray-cml',\n",
       "    'html_url': 'https://ml-b74f8940-b97.go01-dem.ylcu-atmi.cloudera.site/pauldefusco/using-ray-cml',\n",
       "    'url': 'https://ml-b74f8940-b97.go01-dem.ylcu-atmi.cloudera.site/api/v1/projects/pauldefusco/using-ray-cml',\n",
       "    'default_engine_type': 'ml_runtime'},\n",
       "   'owner': {'id': 16,\n",
       "    'username': 'pauldefusco',\n",
       "    'name': 'Paul de Fusco',\n",
       "    'html_url': 'https://ml-b74f8940-b97.go01-dem.ylcu-atmi.cloudera.site/pauldefusco',\n",
       "    'url': 'https://ml-b74f8940-b97.go01-dem.ylcu-atmi.cloudera.site/api/v1/users/pauldefusco',\n",
       "    'is_team': False},\n",
       "   'creator': {'id': 16,\n",
       "    'username': 'pauldefusco',\n",
       "    'name': 'Paul de Fusco',\n",
       "    'html_url': 'https://ml-b74f8940-b97.go01-dem.ylcu-atmi.cloudera.site/pauldefusco',\n",
       "    'url': 'https://ml-b74f8940-b97.go01-dem.ylcu-atmi.cloudera.site/api/v1/users/pauldefusco'},\n",
       "   'biller': {'id': 16,\n",
       "    'username': 'pauldefusco',\n",
       "    'name': 'Paul de Fusco',\n",
       "    'html_url': 'https://ml-b74f8940-b97.go01-dem.ylcu-atmi.cloudera.site/pauldefusco',\n",
       "    'url': 'https://ml-b74f8940-b97.go01-dem.ylcu-atmi.cloudera.site/api/v1/users/pauldefusco'},\n",
       "   'status': 'running',\n",
       "   'oomKilled': False,\n",
       "   'cluster_id': 1,\n",
       "   'batch': True,\n",
       "   'created_at': '2023-09-28T06:37:44.036Z',\n",
       "   'scheduling_at': '2023-09-28T06:37:44.036Z',\n",
       "   'starting_at': '2023-09-28T06:39:16.321Z',\n",
       "   'running_at': '2023-09-28T06:39:16.321Z',\n",
       "   'stopping_at': None,\n",
       "   'finished_at': None,\n",
       "   'deleted': False,\n",
       "   'exit_code': None,\n",
       "   'k8s': {'reason': None,\n",
       "    'message': None,\n",
       "    'internal_error_code': None,\n",
       "    'exit_code': None},\n",
       "   'master_id': 'matqgdmrrh08o6t6',\n",
       "   'job_id': None,\n",
       "   'batch_run_id': None,\n",
       "   'workers': 0,\n",
       "   'engine_image': {'id': None,\n",
       "    'tag': None,\n",
       "    'repository': None,\n",
       "    'description': None},\n",
       "   'runtime': {'id': 211,\n",
       "    'description': 'Python 3.9 JupyterLab Ray',\n",
       "    'image_identifier': 'docker.io/cvandyke/ray:2.5',\n",
       "    'editor': 'JupyterLab',\n",
       "    'kernel': 'Python 3.9',\n",
       "    'status': 'ENABLED'},\n",
       "   'kernel': None,\n",
       "   'cpu': 2,\n",
       "   'memory': 4,\n",
       "   'nvidia_gpu': 1,\n",
       "   'url': 'https://ml-b74f8940-b97.go01-dem.ylcu-atmi.cloudera.site/api/v1/projects/pauldefusco/using-ray-cml/dashboards/t5qfwn00tfinvecn',\n",
       "   'html_url': 'https://ml-b74f8940-b97.go01-dem.ylcu-atmi.cloudera.site/pauldefusco/using-ray-cml/engines/t5qfwn00tfinvecn',\n",
       "   'assets_cdn_root': 'https://consoles.ml-b74f8940-b97.go01-dem.ylcu-atmi.cloudera.site/1/1626/t5qfwn00tfinvecn/',\n",
       "   'app_url': 'https://t5qfwn00tfinvecn.ml-b74f8940-b97.go01-dem.ylcu-atmi.cloudera.site/',\n",
       "   'share_token': None,\n",
       "   'shared_view_visibility': 'private',\n",
       "   'cost': 0.00024103333333333336,\n",
       "   'duration': 3,\n",
       "   'adhoc': False,\n",
       "   'ip_address': '100.100.133.8'},\n",
       "  {'id': 'xkyk6lf1147ak89h',\n",
       "   'name': 'Ray Worker',\n",
       "   'project': {'id': 1626,\n",
       "    'name': 'Using Ray CML',\n",
       "    'slug': 'pauldefusco/using-ray-cml',\n",
       "    'html_url': 'https://ml-b74f8940-b97.go01-dem.ylcu-atmi.cloudera.site/pauldefusco/using-ray-cml',\n",
       "    'url': 'https://ml-b74f8940-b97.go01-dem.ylcu-atmi.cloudera.site/api/v1/projects/pauldefusco/using-ray-cml',\n",
       "    'default_engine_type': 'ml_runtime'},\n",
       "   'owner': {'id': 16,\n",
       "    'username': 'pauldefusco',\n",
       "    'name': 'Paul de Fusco',\n",
       "    'html_url': 'https://ml-b74f8940-b97.go01-dem.ylcu-atmi.cloudera.site/pauldefusco',\n",
       "    'url': 'https://ml-b74f8940-b97.go01-dem.ylcu-atmi.cloudera.site/api/v1/users/pauldefusco',\n",
       "    'is_team': False},\n",
       "   'creator': {'id': 16,\n",
       "    'username': 'pauldefusco',\n",
       "    'name': 'Paul de Fusco',\n",
       "    'html_url': 'https://ml-b74f8940-b97.go01-dem.ylcu-atmi.cloudera.site/pauldefusco',\n",
       "    'url': 'https://ml-b74f8940-b97.go01-dem.ylcu-atmi.cloudera.site/api/v1/users/pauldefusco'},\n",
       "   'biller': {'id': 16,\n",
       "    'username': 'pauldefusco',\n",
       "    'name': 'Paul de Fusco',\n",
       "    'html_url': 'https://ml-b74f8940-b97.go01-dem.ylcu-atmi.cloudera.site/pauldefusco',\n",
       "    'url': 'https://ml-b74f8940-b97.go01-dem.ylcu-atmi.cloudera.site/api/v1/users/pauldefusco'},\n",
       "   'status': 'running',\n",
       "   'oomKilled': False,\n",
       "   'cluster_id': 1,\n",
       "   'batch': True,\n",
       "   'created_at': '2023-09-28T06:37:44.021Z',\n",
       "   'scheduling_at': '2023-09-28T06:37:44.021Z',\n",
       "   'starting_at': '2023-09-28T06:39:20.190Z',\n",
       "   'running_at': '2023-09-28T06:39:20.190Z',\n",
       "   'stopping_at': None,\n",
       "   'finished_at': None,\n",
       "   'deleted': False,\n",
       "   'exit_code': None,\n",
       "   'k8s': {'reason': None,\n",
       "    'message': None,\n",
       "    'internal_error_code': None,\n",
       "    'exit_code': None},\n",
       "   'master_id': 'matqgdmrrh08o6t6',\n",
       "   'job_id': None,\n",
       "   'batch_run_id': None,\n",
       "   'workers': 0,\n",
       "   'engine_image': {'id': None,\n",
       "    'tag': None,\n",
       "    'repository': None,\n",
       "    'description': None},\n",
       "   'runtime': {'id': 211,\n",
       "    'description': 'Python 3.9 JupyterLab Ray',\n",
       "    'image_identifier': 'docker.io/cvandyke/ray:2.5',\n",
       "    'editor': 'JupyterLab',\n",
       "    'kernel': 'Python 3.9',\n",
       "    'status': 'ENABLED'},\n",
       "   'kernel': None,\n",
       "   'cpu': 2,\n",
       "   'memory': 4,\n",
       "   'nvidia_gpu': 1,\n",
       "   'url': 'https://ml-b74f8940-b97.go01-dem.ylcu-atmi.cloudera.site/api/v1/projects/pauldefusco/using-ray-cml/dashboards/xkyk6lf1147ak89h',\n",
       "   'html_url': 'https://ml-b74f8940-b97.go01-dem.ylcu-atmi.cloudera.site/pauldefusco/using-ray-cml/engines/xkyk6lf1147ak89h',\n",
       "   'assets_cdn_root': 'https://consoles.ml-b74f8940-b97.go01-dem.ylcu-atmi.cloudera.site/1/1626/xkyk6lf1147ak89h/',\n",
       "   'app_url': 'https://xkyk6lf1147ak89h.ml-b74f8940-b97.go01-dem.ylcu-atmi.cloudera.site/',\n",
       "   'share_token': None,\n",
       "   'shared_view_visibility': 'private',\n",
       "   'cost': 0.0003927,\n",
       "   'duration': 4,\n",
       "   'adhoc': False,\n",
       "   'ip_address': '100.100.111.72'}],\n",
       " 'failures': []}"
      ]
     },
     "execution_count": 48,
     "metadata": {},
     "output_type": "execute_result"
    }
   ],
   "source": [
    "cluster.ray_worker_details"
   ]
  },
  {
   "cell_type": "code",
   "execution_count": 49,
   "id": "dda175a9-3b4a-426c-9d07-5568c32fdba9",
   "metadata": {},
   "outputs": [
    {
     "name": "stdout",
     "output_type": "stream",
     "text": [
      "Cuda support: False : 0 devices\n"
     ]
    }
   ],
   "source": [
    "print(\"Cuda support:\", torch.cuda.is_available(),\":\", torch.cuda.device_count(), \"devices\")"
   ]
  },
  {
   "cell_type": "code",
   "execution_count": 51,
   "id": "f205846c-c820-4d83-95e5-17be07ca2ae0",
   "metadata": {},
   "outputs": [
    {
     "data": {
      "text/html": [],
      "text/plain": [
       "<IPython.core.display.HTML object>"
      ]
     },
     "metadata": {},
     "output_type": "display_data"
    },
    {
     "name": "stderr",
     "output_type": "stream",
     "text": [
      "\u001b[2m\u001b[36m(TunerInternal pid=793)\u001b[0m [output] This will use the new output engine with verbosity 1. To disable the new output and use the legacy output engine, set the environment variable RAY_AIR_NEW_OUTPUT=0. For more information, please see https://github.com/ray-project/ray/issues/36949\n",
      "\u001b[2m\u001b[36m(TunerInternal pid=793)\u001b[0m AIR_VERBOSITY is set, ignoring passed-in ProgressReporter for now.\n"
     ]
    },
    {
     "name": "stdout",
     "output_type": "stream",
     "text": [
      "\u001b[2m\u001b[36m(TunerInternal pid=793)\u001b[0m \n",
      "\u001b[2m\u001b[36m(TunerInternal pid=793)\u001b[0m View detailed results here: /home/cdsw/ray_results/TorchTrainer_2023-09-28_06-40-16\n",
      "\u001b[2m\u001b[36m(TunerInternal pid=793)\u001b[0m To visualize your results with TensorBoard, run: `tensorboard --logdir /home/cdsw/ray_results/TorchTrainer_2023-09-28_06-40-16`\n",
      "\u001b[2m\u001b[36m(TunerInternal pid=793)\u001b[0m \n",
      "\u001b[2m\u001b[36m(TunerInternal pid=793)\u001b[0m Training started without custom configuration.\n"
     ]
    },
    {
     "name": "stderr",
     "output_type": "stream",
     "text": [
      "\u001b[2m\u001b[36m(TorchTrainer pid=240, ip=100.100.133.8)\u001b[0m Starting distributed worker processes: ['275 (100.100.133.8)', '268 (100.100.111.72)']\n",
      "\u001b[2m\u001b[36m(RayTrainWorker pid=275, ip=100.100.133.8)\u001b[0m Setting up process group for: env:// [rank=0, world_size=2]\n"
     ]
    },
    {
     "name": "stdout",
     "output_type": "stream",
     "text": [
      "\u001b[2m\u001b[36m(TunerInternal pid=793)\u001b[0m \n",
      "\u001b[2m\u001b[36m(TunerInternal pid=793)\u001b[0m Training errored after 0 iterations at 2023-09-28 06:40:58. Total running time: 41s\n",
      "\u001b[2m\u001b[36m(TunerInternal pid=793)\u001b[0m Error file: /home/cdsw/ray_results/TorchTrainer_2023-09-28_06-40-16/TorchTrainer_e2fba_00000_0_2023-09-28_06-40-17/error.txt\n"
     ]
    },
    {
     "name": "stderr",
     "output_type": "stream",
     "text": [
      "\u001b[2m\u001b[36m(TunerInternal pid=793)\u001b[0m Trial task failed for trial TorchTrainer_e2fba_00000\n",
      "\u001b[2m\u001b[36m(TunerInternal pid=793)\u001b[0m Traceback (most recent call last):\n",
      "\u001b[2m\u001b[36m(TunerInternal pid=793)\u001b[0m   File \"/home/cdsw/.local/lib/python3.9/site-packages/ray/air/execution/_internal/event_manager.py\", line 110, in resolve_future\n",
      "\u001b[2m\u001b[36m(TunerInternal pid=793)\u001b[0m     result = ray.get(future)\n",
      "\u001b[2m\u001b[36m(TunerInternal pid=793)\u001b[0m   File \"/home/cdsw/.local/lib/python3.9/site-packages/ray/_private/auto_init_hook.py\", line 24, in auto_init_wrapper\n",
      "\u001b[2m\u001b[36m(TunerInternal pid=793)\u001b[0m     return fn(*args, **kwargs)\n",
      "\u001b[2m\u001b[36m(TunerInternal pid=793)\u001b[0m   File \"/home/cdsw/.local/lib/python3.9/site-packages/ray/_private/client_mode_hook.py\", line 103, in wrapper\n",
      "\u001b[2m\u001b[36m(TunerInternal pid=793)\u001b[0m     return func(*args, **kwargs)\n",
      "\u001b[2m\u001b[36m(TunerInternal pid=793)\u001b[0m   File \"/home/cdsw/.local/lib/python3.9/site-packages/ray/_private/worker.py\", line 2547, in get\n",
      "\u001b[2m\u001b[36m(TunerInternal pid=793)\u001b[0m     raise value.as_instanceof_cause()\n",
      "\u001b[2m\u001b[36m(TunerInternal pid=793)\u001b[0m ray.exceptions.RayTaskError(RuntimeError): \u001b[36mray::TrainTrainable.train()\u001b[39m (pid=240, ip=100.100.133.8, actor_id=35088a70f568697157c6c69401000000, repr=TorchTrainer)\n",
      "\u001b[2m\u001b[36m(TunerInternal pid=793)\u001b[0m   File \"/home/cdsw/.local/lib/python3.9/site-packages/ray/tune/trainable/trainable.py\", line 400, in train\n",
      "\u001b[2m\u001b[36m(TunerInternal pid=793)\u001b[0m     raise skipped from exception_cause(skipped)\n",
      "\u001b[2m\u001b[36m(TunerInternal pid=793)\u001b[0m   File \"/home/cdsw/.local/lib/python3.9/site-packages/ray/air/_internal/util.py\", line 91, in run\n",
      "\u001b[2m\u001b[36m(TunerInternal pid=793)\u001b[0m     self._ret = self._target(*self._args, **self._kwargs)\n",
      "\u001b[2m\u001b[36m(TunerInternal pid=793)\u001b[0m   File \"/home/cdsw/.local/lib/python3.9/site-packages/ray/tune/trainable/function_trainable.py\", line 383, in <lambda>\n",
      "\u001b[2m\u001b[36m(TunerInternal pid=793)\u001b[0m     training_func=lambda: self._trainable_func(self.config),\n",
      "\u001b[2m\u001b[36m(TunerInternal pid=793)\u001b[0m   File \"/home/cdsw/.local/lib/python3.9/site-packages/ray/train/base_trainer.py\", line 856, in _trainable_func\n",
      "\u001b[2m\u001b[36m(TunerInternal pid=793)\u001b[0m     super()._trainable_func(self._merged_config)\n",
      "\u001b[2m\u001b[36m(TunerInternal pid=793)\u001b[0m   File \"/home/cdsw/.local/lib/python3.9/site-packages/ray/tune/trainable/function_trainable.py\", line 822, in _trainable_func\n",
      "\u001b[2m\u001b[36m(TunerInternal pid=793)\u001b[0m     output = fn()\n",
      "\u001b[2m\u001b[36m(TunerInternal pid=793)\u001b[0m   File \"/home/cdsw/.local/lib/python3.9/site-packages/ray/train/base_trainer.py\", line 766, in train_func\n",
      "\u001b[2m\u001b[36m(TunerInternal pid=793)\u001b[0m     trainer.training_loop()\n",
      "\u001b[2m\u001b[36m(TunerInternal pid=793)\u001b[0m   File \"/home/cdsw/.local/lib/python3.9/site-packages/ray/train/data_parallel_trainer.py\", line 543, in training_loop\n",
      "\u001b[2m\u001b[36m(TunerInternal pid=793)\u001b[0m     backend_executor.start(initialization_hook=clear_lazy_checkpoint_marker)\n",
      "\u001b[2m\u001b[36m(TunerInternal pid=793)\u001b[0m   File \"/home/cdsw/.local/lib/python3.9/site-packages/ray/train/_internal/backend_executor.py\", line 156, in start\n",
      "\u001b[2m\u001b[36m(TunerInternal pid=793)\u001b[0m     self._backend.on_start(self.worker_group, self._backend_config)\n",
      "\u001b[2m\u001b[36m(TunerInternal pid=793)\u001b[0m   File \"/home/cdsw/.local/lib/python3.9/site-packages/ray/train/torch/config.py\", line 199, in on_start\n",
      "\u001b[2m\u001b[36m(TunerInternal pid=793)\u001b[0m     ray.get(setup_futures)\n",
      "\u001b[2m\u001b[36m(TunerInternal pid=793)\u001b[0m ray.exceptions.RayTaskError(RuntimeError): \u001b[36mray::_RayTrainWorker__execute._setup_torch_process_group()\u001b[39m (pid=268, ip=100.100.111.72, actor_id=44fa301659bc7bb937b2954501000000, repr=<ray.train._internal.worker_group.RayTrainWorker object at 0x7ff268409490>)\n",
      "\u001b[2m\u001b[36m(TunerInternal pid=793)\u001b[0m   File \"/home/cdsw/.local/lib/python3.9/site-packages/ray/train/_internal/worker_group.py\", line 33, in __execute\n",
      "\u001b[2m\u001b[36m(TunerInternal pid=793)\u001b[0m     raise skipped from exception_cause(skipped)\n",
      "\u001b[2m\u001b[36m(TunerInternal pid=793)\u001b[0m   File \"/home/cdsw/.local/lib/python3.9/site-packages/ray/train/_internal/worker_group.py\", line 30, in __execute\n",
      "\u001b[2m\u001b[36m(TunerInternal pid=793)\u001b[0m     return func(*args, **kwargs)\n",
      "\u001b[2m\u001b[36m(TunerInternal pid=793)\u001b[0m   File \"/home/cdsw/.local/lib/python3.9/site-packages/ray/train/torch/config.py\", line 107, in _setup_torch_process_group\n",
      "\u001b[2m\u001b[36m(TunerInternal pid=793)\u001b[0m     dist.init_process_group(\n",
      "\u001b[2m\u001b[36m(TunerInternal pid=793)\u001b[0m   File \"/home/cdsw/.local/lib/python3.9/site-packages/torch/distributed/distributed_c10d.py\", line 907, in init_process_group\n",
      "\u001b[2m\u001b[36m(TunerInternal pid=793)\u001b[0m     default_pg = _new_process_group_helper(\n",
      "\u001b[2m\u001b[36m(TunerInternal pid=793)\u001b[0m   File \"/home/cdsw/.local/lib/python3.9/site-packages/torch/distributed/distributed_c10d.py\", line 1024, in _new_process_group_helper\n",
      "\u001b[2m\u001b[36m(TunerInternal pid=793)\u001b[0m     backend_class = ProcessGroupNCCL(backend_prefix_store, group_rank, group_size, pg_options)\n",
      "\u001b[2m\u001b[36m(TunerInternal pid=793)\u001b[0m RuntimeError: ProcessGroupNCCL is only supported with GPUs, no GPUs found!\n"
     ]
    },
    {
     "ename": "TrainingFailedError",
     "evalue": "The Ray Train run failed. Please inspect the previous error messages for a cause. After fixing the issue (assuming that the error is not caused by your own application logic, but rather an error such as OOM), you can restart the run from scratch or continue this run.\nTo continue this run, you can use: `trainer = TorchTrainer.restore(\"/home/cdsw/ray_results/TorchTrainer_2023-09-28_06-40-08\")`.\nTo start a new run that will retry on training failures, set `train.RunConfig(failure_config=train.FailureConfig(max_failures))` in the Trainer's `run_config` with `max_failures > 0`, or `max_failures = -1` for unlimited retries.",
     "output_type": "error",
     "traceback": [
      "\u001b[0;31m---------------------------------------------------------------------------\u001b[0m",
      "\u001b[0;31mRayTaskError(RuntimeError)\u001b[0m                Traceback (most recent call last)",
      "\u001b[0;31mRayTaskError(RuntimeError)\u001b[0m: \u001b[36mray::TrainTrainable.train()\u001b[39m (pid=240, ip=100.100.133.8, actor_id=35088a70f568697157c6c69401000000, repr=TorchTrainer)\n  File \"/home/cdsw/.local/lib/python3.9/site-packages/ray/tune/trainable/trainable.py\", line 400, in train\n    raise skipped from exception_cause(skipped)\n  File \"/home/cdsw/.local/lib/python3.9/site-packages/ray/air/_internal/util.py\", line 91, in run\n    self._ret = self._target(*self._args, **self._kwargs)\n  File \"/home/cdsw/.local/lib/python3.9/site-packages/ray/tune/trainable/function_trainable.py\", line 383, in <lambda>\n    training_func=lambda: self._trainable_func(self.config),\n  File \"/home/cdsw/.local/lib/python3.9/site-packages/ray/train/base_trainer.py\", line 856, in _trainable_func\n    super()._trainable_func(self._merged_config)\n  File \"/home/cdsw/.local/lib/python3.9/site-packages/ray/tune/trainable/function_trainable.py\", line 822, in _trainable_func\n    output = fn()\n  File \"/home/cdsw/.local/lib/python3.9/site-packages/ray/train/base_trainer.py\", line 766, in train_func\n    trainer.training_loop()\n  File \"/home/cdsw/.local/lib/python3.9/site-packages/ray/train/data_parallel_trainer.py\", line 543, in training_loop\n    backend_executor.start(initialization_hook=clear_lazy_checkpoint_marker)\n  File \"/home/cdsw/.local/lib/python3.9/site-packages/ray/train/_internal/backend_executor.py\", line 156, in start\n    self._backend.on_start(self.worker_group, self._backend_config)\n  File \"/home/cdsw/.local/lib/python3.9/site-packages/ray/train/torch/config.py\", line 199, in on_start\n    ray.get(setup_futures)\nray.exceptions.RayTaskError(RuntimeError): \u001b[36mray::_RayTrainWorker__execute._setup_torch_process_group()\u001b[39m (pid=268, ip=100.100.111.72, actor_id=44fa301659bc7bb937b2954501000000, repr=<ray.train._internal.worker_group.RayTrainWorker object at 0x7ff268409490>)\n  File \"/home/cdsw/.local/lib/python3.9/site-packages/ray/train/_internal/worker_group.py\", line 33, in __execute\n    raise skipped from exception_cause(skipped)\n  File \"/home/cdsw/.local/lib/python3.9/site-packages/ray/train/_internal/worker_group.py\", line 30, in __execute\n    return func(*args, **kwargs)\n  File \"/home/cdsw/.local/lib/python3.9/site-packages/ray/train/torch/config.py\", line 107, in _setup_torch_process_group\n    dist.init_process_group(\n  File \"/home/cdsw/.local/lib/python3.9/site-packages/torch/distributed/distributed_c10d.py\", line 907, in init_process_group\n    default_pg = _new_process_group_helper(\n  File \"/home/cdsw/.local/lib/python3.9/site-packages/torch/distributed/distributed_c10d.py\", line 1024, in _new_process_group_helper\n    backend_class = ProcessGroupNCCL(backend_prefix_store, group_rank, group_size, pg_options)\nRuntimeError: ProcessGroupNCCL is only supported with GPUs, no GPUs found!",
      "\nThe above exception was the direct cause of the following exception:\n",
      "\u001b[0;31mTrainingFailedError\u001b[0m                       Traceback (most recent call last)",
      "\u001b[0;32m/tmp/ipykernel_218/3070752373.py\u001b[0m in \u001b[0;36m<module>\u001b[0;34m\u001b[0m\n\u001b[0;32m----> 1\u001b[0;31m \u001b[0mresult\u001b[0m \u001b[0;34m=\u001b[0m \u001b[0mtrainer\u001b[0m\u001b[0;34m.\u001b[0m\u001b[0mfit\u001b[0m\u001b[0;34m(\u001b[0m\u001b[0;34m)\u001b[0m\u001b[0;34m\u001b[0m\u001b[0;34m\u001b[0m\u001b[0m\n\u001b[0m",
      "\u001b[0;32m~/.local/lib/python3.9/site-packages/ray/train/base_trainer.py\u001b[0m in \u001b[0;36mfit\u001b[0;34m(self)\u001b[0m\n\u001b[1;32m    666\u001b[0m             \u001b[0;31m# Raise trainable errors to the user with a message to restore\u001b[0m\u001b[0;34m\u001b[0m\u001b[0;34m\u001b[0m\u001b[0m\n\u001b[1;32m    667\u001b[0m             \u001b[0;31m# or configure `FailureConfig` in a new run.\u001b[0m\u001b[0;34m\u001b[0m\u001b[0;34m\u001b[0m\u001b[0m\n\u001b[0;32m--> 668\u001b[0;31m             raise TrainingFailedError(\n\u001b[0m\u001b[1;32m    669\u001b[0m                 \u001b[0;34m\"\\n\"\u001b[0m\u001b[0;34m.\u001b[0m\u001b[0mjoin\u001b[0m\u001b[0;34m(\u001b[0m\u001b[0;34m[\u001b[0m\u001b[0mrestore_msg\u001b[0m\u001b[0;34m,\u001b[0m \u001b[0mTrainingFailedError\u001b[0m\u001b[0;34m.\u001b[0m\u001b[0m_FAILURE_CONFIG_MSG\u001b[0m\u001b[0;34m]\u001b[0m\u001b[0;34m)\u001b[0m\u001b[0;34m\u001b[0m\u001b[0;34m\u001b[0m\u001b[0m\n\u001b[1;32m    670\u001b[0m             ) from result.error\n",
      "\u001b[0;31mTrainingFailedError\u001b[0m: The Ray Train run failed. Please inspect the previous error messages for a cause. After fixing the issue (assuming that the error is not caused by your own application logic, but rather an error such as OOM), you can restart the run from scratch or continue this run.\nTo continue this run, you can use: `trainer = TorchTrainer.restore(\"/home/cdsw/ray_results/TorchTrainer_2023-09-28_06-40-08\")`.\nTo start a new run that will retry on training failures, set `train.RunConfig(failure_config=train.FailureConfig(max_failures))` in the Trainer's `run_config` with `max_failures > 0`, or `max_failures = -1` for unlimited retries."
     ]
    }
   ],
   "source": [
    "result = trainer.fit()"
   ]
  },
  {
   "cell_type": "code",
   "execution_count": 52,
   "id": "ccced255-3761-4644-8831-dcbef9351cfd",
   "metadata": {},
   "outputs": [],
   "source": [
    "ray.shutdown()"
   ]
  },
  {
   "cell_type": "code",
   "execution_count": 53,
   "id": "7d099cbd-df79-4107-95f6-a933aa5f9cfd",
   "metadata": {},
   "outputs": [],
   "source": [
    "cluster.terminate()"
   ]
  },
  {
   "cell_type": "code",
   "execution_count": null,
   "id": "78fd29af-c5f1-4560-b165-30e513d57dc9",
   "metadata": {},
   "outputs": [
    {
     "name": "stderr",
     "output_type": "stream",
     "text": [
      "\u001b[2m\u001b[36m(TunerInternal pid=793)\u001b[0m Trials did not complete: [TorchTrainer_e2fba_00000]\n"
     ]
    },
    {
     "name": "stdout",
     "output_type": "stream",
     "text": [
      "\u001b[2m\u001b[36m(TunerInternal pid=793)\u001b[0m \n"
     ]
    }
   ],
   "source": [
    "import os\n",
    "\n",
    "elist={}\n",
    "elist=os.environ\n",
    "for e in elist:\n",
    "    print(e)"
   ]
  },
  {
   "cell_type": "code",
   "execution_count": null,
   "id": "a8f64df7-bc8c-4176-aab2-6060bac71122",
   "metadata": {},
   "outputs": [],
   "source": []
  }
 ],
 "metadata": {
  "kernelspec": {
   "display_name": "Python 3 (ipykernel)",
   "language": "python",
   "name": "python3"
  },
  "language_info": {
   "codemirror_mode": {
    "name": "ipython",
    "version": 3
   },
   "file_extension": ".py",
   "mimetype": "text/x-python",
   "name": "python",
   "nbconvert_exporter": "python",
   "pygments_lexer": "ipython3",
   "version": "3.9.16"
  }
 },
 "nbformat": 4,
 "nbformat_minor": 5
}
