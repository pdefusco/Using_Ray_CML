{
 "cells": [
  {
   "cell_type": "code",
   "execution_count": 16,
   "id": "a750a1da-c4d1-4fe1-b3d3-7712f1404014",
   "metadata": {
    "tags": []
   },
   "outputs": [],
   "source": [
    "import ray"
   ]
  },
  {
   "cell_type": "code",
   "execution_count": 18,
   "id": "969ffee3-33e3-4e3b-b0b3-f5939e66a03d",
   "metadata": {
    "tags": []
   },
   "outputs": [
    {
     "name": "stdout",
     "output_type": "stream",
     "text": [
      "/bin/bash: /home/cdsw/.local/bin/ray: /opt/conda/bin/python3.10: bad interpreter: No such file or directory\n"
     ]
    }
   ],
   "source": [
    "!ray start --head --port=8100"
   ]
  },
  {
   "cell_type": "code",
   "execution_count": null,
   "id": "9ddfb113-8616-4500-85e7-7360578aa335",
   "metadata": {},
   "outputs": [],
   "source": []
  }
 ],
 "metadata": {
  "kernelspec": {
   "display_name": "Python 3 (ipykernel)",
   "language": "python",
   "name": "python3"
  },
  "language_info": {
   "codemirror_mode": {
    "name": "ipython",
    "version": 3
   },
   "file_extension": ".py",
   "mimetype": "text/x-python",
   "name": "python",
   "nbconvert_exporter": "python",
   "pygments_lexer": "ipython3",
   "version": "3.9.16"
  }
 },
 "nbformat": 4,
 "nbformat_minor": 5
}
