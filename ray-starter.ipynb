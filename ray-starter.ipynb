{
 "cells": [
  {
   "cell_type": "code",
   "execution_count": 1,
   "id": "e665c966-f085-49ff-8696-1581e7c57342",
   "metadata": {
    "tags": []
   },
   "outputs": [],
   "source": [
    "%load_ext autoreload\n",
    "%autoreload 2\n",
    "from tqdm import tqdm_notebook\n",
    "from ipywidgets import FloatProgress\n",
    "from IPython.display import display"
   ]
  },
  {
   "cell_type": "code",
   "execution_count": 2,
   "id": "6e46699d-7365-4fdd-9ec4-6ff3e9b26dc1",
   "metadata": {
    "tags": []
   },
   "outputs": [
    {
     "name": "stderr",
     "output_type": "stream",
     "text": [
      "2023-10-05 18:11:28,935\tWARNING services.py:1732 -- WARNING: The object store is using /tmp instead of /dev/shm because /dev/shm has only 67108864 bytes available. This will harm performance! You may be able to free up space by deleting files in /dev/shm. If you are inside a Docker container, you can increase /dev/shm size by passing '--shm-size=2.25gb' to 'docker run' (or add it to the run_options list in a Ray cluster config). Make sure to set this to more than 30% of available RAM.\n",
      "2023-10-05 18:11:29,161\tINFO worker.py:1529 -- Started a local Ray instance. View the dashboard at \u001b[1m\u001b[32m127.0.0.1:8265 \u001b[39m\u001b[22m\n"
     ]
    },
    {
     "data": {
      "text/html": [
       "<div>\n",
       "    <div style=\"margin-left: 50px;display: flex;flex-direction: row;align-items: center\">\n",
       "        <h3 style=\"color: var(--jp-ui-font-color0)\">Ray</h3>\n",
       "        <svg version=\"1.1\" id=\"ray\" width=\"3em\" viewBox=\"0 0 144.5 144.6\" style=\"margin-left: 3em;margin-right: 3em\">\n",
       "            <g id=\"layer-1\">\n",
       "                <path fill=\"#00a2e9\" class=\"st0\" d=\"M97.3,77.2c-3.8-1.1-6.2,0.9-8.3,5.1c-3.5,6.8-9.9,9.9-17.4,9.6S58,88.1,54.8,81.2c-1.4-3-3-4-6.3-4.1\n",
       "                    c-5.6-0.1-9.9,0.1-13.1,6.4c-3.8,7.6-13.6,10.2-21.8,7.6C5.2,88.4-0.4,80.5,0,71.7c0.1-8.4,5.7-15.8,13.8-18.2\n",
       "                    c8.4-2.6,17.5,0.7,22.3,8c1.3,1.9,1.3,5.2,3.6,5.6c3.9,0.6,8,0.2,12,0.2c1.8,0,1.9-1.6,2.4-2.8c3.5-7.8,9.7-11.8,18-11.9\n",
       "                    c8.2-0.1,14.4,3.9,17.8,11.4c1.3,2.8,2.9,3.6,5.7,3.3c1-0.1,2,0.1,3,0c2.8-0.5,6.4,1.7,8.1-2.7s-2.3-5.5-4.1-7.5\n",
       "                    c-5.1-5.7-10.9-10.8-16.1-16.3C84,38,81.9,37.1,78,38.3C66.7,42,56.2,35.7,53,24.1C50.3,14,57.3,2.8,67.7,0.5\n",
       "                    C78.4-2,89,4.7,91.5,15.3c0.1,0.3,0.1,0.5,0.2,0.8c0.7,3.4,0.7,6.9-0.8,9.8c-1.7,3.2-0.8,5,1.5,7.2c6.7,6.5,13.3,13,19.8,19.7\n",
       "                    c1.8,1.8,3,2.1,5.5,1.2c9.1-3.4,17.9-0.6,23.4,7c4.8,6.9,4.6,16.1-0.4,22.9c-5.4,7.2-14.2,9.9-23.1,6.5c-2.3-0.9-3.5-0.6-5.1,1.1\n",
       "                    c-6.7,6.9-13.6,13.7-20.5,20.4c-1.8,1.8-2.5,3.2-1.4,5.9c3.5,8.7,0.3,18.6-7.7,23.6c-7.9,5-18.2,3.8-24.8-2.9\n",
       "                    c-6.4-6.4-7.4-16.2-2.5-24.3c4.9-7.8,14.5-11,23.1-7.8c3,1.1,4.7,0.5,6.9-1.7C91.7,98.4,98,92.3,104.2,86c1.6-1.6,4.1-2.7,2.6-6.2\n",
       "                    c-1.4-3.3-3.8-2.5-6.2-2.6C99.8,77.2,98.9,77.2,97.3,77.2z M72.1,29.7c5.5,0.1,9.9-4.3,10-9.8c0-0.1,0-0.2,0-0.3\n",
       "                    C81.8,14,77,9.8,71.5,10.2c-5,0.3-9,4.2-9.3,9.2c-0.2,5.5,4,10.1,9.5,10.3C71.8,29.7,72,29.7,72.1,29.7z M72.3,62.3\n",
       "                    c-5.4-0.1-9.9,4.2-10.1,9.7c0,0.2,0,0.3,0,0.5c0.2,5.4,4.5,9.7,9.9,10c5.1,0.1,9.9-4.7,10.1-9.8c0.2-5.5-4-10-9.5-10.3\n",
       "                    C72.6,62.3,72.4,62.3,72.3,62.3z M115,72.5c0.1,5.4,4.5,9.7,9.8,9.9c5.6-0.2,10-4.8,10-10.4c-0.2-5.4-4.6-9.7-10-9.7\n",
       "                    c-5.3-0.1-9.8,4.2-9.9,9.5C115,72.1,115,72.3,115,72.5z M19.5,62.3c-5.4,0.1-9.8,4.4-10,9.8c-0.1,5.1,5.2,10.4,10.2,10.3\n",
       "                    c5.6-0.2,10-4.9,9.8-10.5c-0.1-5.4-4.5-9.7-9.9-9.6C19.6,62.3,19.5,62.3,19.5,62.3z M71.8,134.6c5.9,0.2,10.3-3.9,10.4-9.6\n",
       "                    c0.5-5.5-3.6-10.4-9.1-10.8c-5.5-0.5-10.4,3.6-10.8,9.1c0,0.5,0,0.9,0,1.4c-0.2,5.3,4,9.8,9.3,10\n",
       "                    C71.6,134.6,71.7,134.6,71.8,134.6z\"/>\n",
       "            </g>\n",
       "        </svg>\n",
       "        <table>\n",
       "            <tr>\n",
       "                <td style=\"text-align: left\"><b>Python version:</b></td>\n",
       "                <td style=\"text-align: left\"><b>3.9.16</b></td>\n",
       "            </tr>\n",
       "            <tr>\n",
       "                <td style=\"text-align: left\"><b>Ray version:</b></td>\n",
       "                <td style=\"text-align: left\"><b> 2.2.0</b></td>\n",
       "            </tr>\n",
       "            <tr>\n",
       "    <td style=\"text-align: left\"><b>Dashboard:</b></td>\n",
       "    <td style=\"text-align: left\"><b><a href=\"http://127.0.0.1:8265\" target=\"_blank\">http://127.0.0.1:8265</a></b></td>\n",
       "</tr>\n",
       "\n",
       "        </table>\n",
       "    </div>\n",
       "</div>\n"
      ],
      "text/plain": [
       "RayContext(dashboard_url='127.0.0.1:8265', python_version='3.9.16', ray_version='2.2.0', ray_commit='b6af0887ee5f2e460202133791ad941a41f15beb', address_info={'node_ip_address': '100.100.137.165', 'raylet_ip_address': '100.100.137.165', 'redis_address': None, 'object_store_address': '/tmp/ray/session_2023-10-05_18-11-23_502476_239/sockets/plasma_store', 'raylet_socket_name': '/tmp/ray/session_2023-10-05_18-11-23_502476_239/sockets/raylet', 'webui_url': '127.0.0.1:8265', 'session_dir': '/tmp/ray/session_2023-10-05_18-11-23_502476_239', 'metrics_export_port': 53594, 'gcs_address': '100.100.137.165:64642', 'address': '100.100.137.165:64642', 'dashboard_agent_listen_port': 52365, 'node_id': '64d8e25a09abd344b5eee6d73d8b53036cac5592163a0cef5f2c1398'})"
      ]
     },
     "execution_count": 2,
     "metadata": {},
     "output_type": "execute_result"
    }
   ],
   "source": [
    "import ray\n",
    "ray.init()"
   ]
  },
  {
   "cell_type": "markdown",
   "id": "ada1ca08-140a-4bc8-9fc9-ad25c29e90ed",
   "metadata": {},
   "source": [
    "### Ray Datasets"
   ]
  },
  {
   "cell_type": "code",
   "execution_count": 3,
   "id": "66dead29-abab-4f02-8d0c-136bd41b13ce",
   "metadata": {
    "tags": []
   },
   "outputs": [],
   "source": [
    "items = [{\"name\": str(i), \"data\": i} for i in range(10000)]"
   ]
  },
  {
   "cell_type": "code",
   "execution_count": 4,
   "id": "80cb100e-1349-4e44-88ab-42beed43de28",
   "metadata": {
    "tags": []
   },
   "outputs": [],
   "source": [
    "ds = ray.data.from_items(items)"
   ]
  },
  {
   "cell_type": "code",
   "execution_count": 5,
   "id": "10afee75-12b1-4c99-bff4-47051b73cbeb",
   "metadata": {
    "tags": []
   },
   "outputs": [
    {
     "name": "stderr",
     "output_type": "stream",
     "text": [
      "2023-10-05 18:11:56,280\tWARNING dataset.py:4233 -- The `map`, `flat_map`, and `filter` operations are unvectorized and can be very slow. Consider using `.map_batches()` instead.\n",
      "Map: 100%|████████████████████████████████████| 200/200 [00:02<00:00, 81.04it/s]\n"
     ]
    }
   ],
   "source": [
    "squares = ds.map(lambda x: x[\"data\"] ** 2)"
   ]
  },
  {
   "cell_type": "code",
   "execution_count": 6,
   "id": "2b9f39f3-e4f0-4f3a-8cd7-0811e45d009d",
   "metadata": {
    "tags": []
   },
   "outputs": [
    {
     "data": {
      "application/vnd.jupyter.widget-view+json": {
       "model_id": "67ee47d8ee83443bb28641e1aa7c0292",
       "version_major": 2,
       "version_minor": 0
      },
      "text/plain": [
       "VBox(children=(HTML(value='<h2>Dataset</h2>'), Tab(children=(HTML(value='<div class=\"scrollableTable jp-Render…"
      ]
     },
     "metadata": {},
     "output_type": "display_data"
    }
   ],
   "source": [
    "squares"
   ]
  },
  {
   "cell_type": "code",
   "execution_count": 7,
   "id": "3804efde-dade-47d8-8d06-4cc974d91455",
   "metadata": {},
   "outputs": [
    {
     "name": "stderr",
     "output_type": "stream",
     "text": [
      "Filter: 100%|███████████████████████████████| 200/200 [00:00<00:00, 1291.87it/s]\n"
     ]
    }
   ],
   "source": [
    "evens = squares.filter(lambda x: x % 2 == 0)"
   ]
  },
  {
   "cell_type": "code",
   "execution_count": 8,
   "id": "86a9b834-56fa-40c9-acd4-725885e9e9de",
   "metadata": {},
   "outputs": [
    {
     "data": {
      "application/vnd.jupyter.widget-view+json": {
       "model_id": "de3c1d994f7049ad978e0bb164918f4b",
       "version_major": 2,
       "version_minor": 0
      },
      "text/plain": [
       "VBox(children=(HTML(value='<h2>Dataset</h2>'), Tab(children=(HTML(value='<div class=\"scrollableTable jp-Render…"
      ]
     },
     "metadata": {},
     "output_type": "display_data"
    }
   ],
   "source": [
    "evens"
   ]
  },
  {
   "cell_type": "code",
   "execution_count": 9,
   "id": "dfac26a6-77c6-4d67-8ae1-14a938d3c616",
   "metadata": {},
   "outputs": [
    {
     "name": "stderr",
     "output_type": "stream",
     "text": [
      "Flat_Map: 100%|█████████████████████████████| 200/200 [00:00<00:00, 1068.58it/s]\n"
     ]
    }
   ],
   "source": [
    "cubes = evens.flat_map(lambda x: [x, x**3])"
   ]
  },
  {
   "cell_type": "code",
   "execution_count": 10,
   "id": "61a60c77-f17d-40d3-85e4-66cede16fbc6",
   "metadata": {},
   "outputs": [
    {
     "data": {
      "application/vnd.jupyter.widget-view+json": {
       "model_id": "1c4bb44179834449b6d64f2210a1910e",
       "version_major": 2,
       "version_minor": 0
      },
      "text/plain": [
       "VBox(children=(HTML(value='<h2>Dataset</h2>'), Tab(children=(HTML(value='<div class=\"scrollableTable jp-Render…"
      ]
     },
     "metadata": {},
     "output_type": "display_data"
    }
   ],
   "source": [
    "cubes"
   ]
  },
  {
   "cell_type": "code",
   "execution_count": 11,
   "id": "98500ef4-e376-4aa1-bb08-8196f20a0467",
   "metadata": {},
   "outputs": [],
   "source": [
    "sample = cubes.take(10)"
   ]
  },
  {
   "cell_type": "code",
   "execution_count": 12,
   "id": "e7d57685-8974-45bb-8767-3bfa6273c260",
   "metadata": {},
   "outputs": [
    {
     "name": "stdout",
     "output_type": "stream",
     "text": [
      "[0, 0, 4, 64, 16, 4096, 36, 46656, 64, 262144]\n"
     ]
    }
   ],
   "source": [
    "print(sample)"
   ]
  },
  {
   "cell_type": "markdown",
   "id": "79539b59-eb68-41b2-aeca-b8dbdb95cab5",
   "metadata": {},
   "source": [
    "### Ray DatasetPipeline"
   ]
  },
  {
   "cell_type": "code",
   "execution_count": 13,
   "id": "12f8758a-222c-4570-97cb-f890d11bb91f",
   "metadata": {
    "tags": []
   },
   "outputs": [
    {
     "name": "stderr",
     "output_type": "stream",
     "text": [
      "2023-10-05 18:12:16,240\tINFO dataset.py:3693 -- Created DatasetPipeline with 20 windows: 7390b min, 8000b max, 7944b mean\n",
      "2023-10-05 18:12:16,241\tINFO dataset.py:3703 -- Blocks per window: 10 min, 10 max, 10 mean\n",
      "2023-10-05 18:12:16,242\tWARNING dataset.py:3715 -- ⚠️  This pipeline's parallelism is limited by its blocks per window to ~10 concurrent tasks per window. To maximize performance, increase the blocks per window to at least 16. This may require increasing the base dataset's parallelism and/or adjusting the windowing parameters.\n",
      "2023-10-05 18:12:16,243\tINFO dataset.py:3742 -- ✔️  This pipeline's windows likely fit in object store memory without spilling.\n"
     ]
    }
   ],
   "source": [
    "pipe = ds.window()"
   ]
  },
  {
   "cell_type": "code",
   "execution_count": 14,
   "id": "ffc5f394-2cd8-40bc-8a4a-b08ae929b96d",
   "metadata": {
    "tags": []
   },
   "outputs": [
    {
     "name": "stderr",
     "output_type": "stream",
     "text": [
      "Stage 0:   0%|                                           | 0/20 [00:00<?, ?it/s]\n",
      "  0%|                                                    | 0/20 [00:00<?, ?it/s]\u001b[A\n",
      "Stage 1:   5%|█▊                                 | 1/20 [00:00<00:02,  8.94it/s]\u001b[A\n",
      "Stage 0:  10%|███▌                               | 2/20 [00:00<00:01, 17.40it/s]"
     ]
    },
    {
     "name": "stdout",
     "output_type": "stream",
     "text": [
      "0\n",
      "0\n",
      "4\n",
      "64\n",
      "16\n",
      "4096\n",
      "36\n",
      "46656\n",
      "64\n",
      "262144\n"
     ]
    },
    {
     "name": "stderr",
     "output_type": "stream",
     "text": [
      "\n"
     ]
    }
   ],
   "source": [
    "result = pipe\\\n",
    "            .map(lambda x: x[\"data\"] ** 2)\\\n",
    "            .filter(lambda x: x % 2 == 0)\\\n",
    "            .flat_map(lambda x: [x, x ** 3])\n",
    "result.show(10)"
   ]
  },
  {
   "cell_type": "code",
   "execution_count": 15,
   "id": "9c5eceae-43bd-485c-a3c4-a98c861cdaef",
   "metadata": {
    "tags": []
   },
   "outputs": [],
   "source": [
    "import gym"
   ]
  },
  {
   "cell_type": "code",
   "execution_count": 16,
   "id": "49ef40db-31e5-468e-89c5-0ae27bbdb80d",
   "metadata": {
    "tags": []
   },
   "outputs": [
    {
     "name": "stdout",
     "output_type": "stream",
     "text": [
      "/bin/bash: /home/cdsw/.local/bin/rllib: /opt/conda/bin/python3.10: bad interpreter: No such file or directory\n"
     ]
    }
   ],
   "source": [
    "!rllib example get cartpole-ppo"
   ]
  },
  {
   "cell_type": "code",
   "execution_count": 17,
   "id": "705f78c7-8116-4ab2-a7bc-4b654ebea7a0",
   "metadata": {
    "tags": []
   },
   "outputs": [
    {
     "name": "stderr",
     "output_type": "stream",
     "text": [
      "/home/cdsw/.local/lib/python3.9/site-packages/ray/tune/logger/tensorboardx.py:35: DeprecationWarning: `np.bool8` is a deprecated alias for `np.bool_`.  (Deprecated NumPy 1.24)\n",
      "  VALID_NP_HPARAMS = (np.bool8, np.float32, np.float64, np.int32, np.int64)\n"
     ]
    }
   ],
   "source": [
    "from ray import tune\n",
    "import math\n",
    "import time"
   ]
  },
  {
   "cell_type": "code",
   "execution_count": 18,
   "id": "83a46eeb-08fd-45cd-9e87-b99b1ab92570",
   "metadata": {
    "tags": []
   },
   "outputs": [],
   "source": [
    "def training_function(config):\n",
    "    x, y = config[\"x\"], config[\"y\"]\n",
    "    time.sleep(10)\n",
    "    score = objective(x,y)\n",
    "    tune.report(score=score)\n",
    "\n",
    "def objective(x,y):\n",
    "    return math.sqrt((x**2 + y**2)/2)"
   ]
  },
  {
   "cell_type": "code",
   "execution_count": 19,
   "id": "1da54ead-3cf5-4cc5-b0c3-e67c0baafa10",
   "metadata": {
    "tags": []
   },
   "outputs": [
    {
     "data": {
      "text/html": [
       "<div class=\"tuneStatus\">\n",
       "  <div style=\"display: flex;flex-direction: row\">\n",
       "    <div style=\"display: flex;flex-direction: column;\">\n",
       "      <h3>Tune Status</h3>\n",
       "      <table>\n",
       "<tbody>\n",
       "<tr><td>Current time:</td><td>2023-10-05 18:13:13</td></tr>\n",
       "<tr><td>Running for: </td><td>00:00:31.62        </td></tr>\n",
       "<tr><td>Memory:      </td><td>7.3/62.0 GiB       </td></tr>\n",
       "</tbody>\n",
       "</table>\n",
       "    </div>\n",
       "    <div class=\"vDivider\"></div>\n",
       "    <div class=\"systemInfo\">\n",
       "      <h3>System Info</h3>\n",
       "      Using FIFO scheduling algorithm.<br>Resources requested: 0/16 CPUs, 0/0 GPUs, 0.0/4.1 GiB heap, 0.0/2.05 GiB objects\n",
       "    </div>\n",
       "    \n",
       "  </div>\n",
       "  <div class=\"hDivider\"></div>\n",
       "  <div class=\"trialStatus\">\n",
       "    <h3>Trial Status</h3>\n",
       "    <table>\n",
       "<thead>\n",
       "<tr><th>Trial name                   </th><th>status    </th><th>loc                 </th><th style=\"text-align: right;\">   x</th><th style=\"text-align: right;\">   y</th><th style=\"text-align: right;\">  iter</th><th style=\"text-align: right;\">  total time (s)</th><th style=\"text-align: right;\">   score</th></tr>\n",
       "</thead>\n",
       "<tbody>\n",
       "<tr><td>training_function_c5fac_00000</td><td>TERMINATED</td><td>100.100.137.165:1982</td><td style=\"text-align: right;\">-1  </td><td style=\"text-align: right;\">-1  </td><td style=\"text-align: right;\">     1</td><td style=\"text-align: right;\">         10.0486</td><td style=\"text-align: right;\">1       </td></tr>\n",
       "<tr><td>training_function_c5fac_00001</td><td>TERMINATED</td><td>100.100.137.165:2067</td><td style=\"text-align: right;\">-0.5</td><td style=\"text-align: right;\">-1  </td><td style=\"text-align: right;\">     1</td><td style=\"text-align: right;\">         10.0488</td><td style=\"text-align: right;\">0.790569</td></tr>\n",
       "<tr><td>training_function_c5fac_00002</td><td>TERMINATED</td><td>100.100.137.165:2069</td><td style=\"text-align: right;\"> 0  </td><td style=\"text-align: right;\">-1  </td><td style=\"text-align: right;\">     1</td><td style=\"text-align: right;\">         10.0463</td><td style=\"text-align: right;\">0.707107</td></tr>\n",
       "<tr><td>training_function_c5fac_00003</td><td>TERMINATED</td><td>100.100.137.165:2071</td><td style=\"text-align: right;\"> 0.5</td><td style=\"text-align: right;\">-1  </td><td style=\"text-align: right;\">     1</td><td style=\"text-align: right;\">         10.0502</td><td style=\"text-align: right;\">0.790569</td></tr>\n",
       "<tr><td>training_function_c5fac_00004</td><td>TERMINATED</td><td>100.100.137.165:2073</td><td style=\"text-align: right;\"> 1  </td><td style=\"text-align: right;\">-1  </td><td style=\"text-align: right;\">     1</td><td style=\"text-align: right;\">         10.0496</td><td style=\"text-align: right;\">1       </td></tr>\n",
       "<tr><td>training_function_c5fac_00005</td><td>TERMINATED</td><td>100.100.137.165:2090</td><td style=\"text-align: right;\">-1  </td><td style=\"text-align: right;\">-0.5</td><td style=\"text-align: right;\">     1</td><td style=\"text-align: right;\">         10.0495</td><td style=\"text-align: right;\">0.790569</td></tr>\n",
       "<tr><td>training_function_c5fac_00006</td><td>TERMINATED</td><td>100.100.137.165:2123</td><td style=\"text-align: right;\">-0.5</td><td style=\"text-align: right;\">-0.5</td><td style=\"text-align: right;\">     1</td><td style=\"text-align: right;\">         10.0466</td><td style=\"text-align: right;\">0.5     </td></tr>\n",
       "<tr><td>training_function_c5fac_00007</td><td>TERMINATED</td><td>100.100.137.165:2124</td><td style=\"text-align: right;\"> 0  </td><td style=\"text-align: right;\">-0.5</td><td style=\"text-align: right;\">     1</td><td style=\"text-align: right;\">         10.0475</td><td style=\"text-align: right;\">0.353553</td></tr>\n",
       "<tr><td>training_function_c5fac_00008</td><td>TERMINATED</td><td>100.100.137.165:2126</td><td style=\"text-align: right;\"> 0.5</td><td style=\"text-align: right;\">-0.5</td><td style=\"text-align: right;\">     1</td><td style=\"text-align: right;\">         10.0483</td><td style=\"text-align: right;\">0.5     </td></tr>\n",
       "<tr><td>training_function_c5fac_00009</td><td>TERMINATED</td><td>100.100.137.165:2143</td><td style=\"text-align: right;\"> 1  </td><td style=\"text-align: right;\">-0.5</td><td style=\"text-align: right;\">     1</td><td style=\"text-align: right;\">         10.047 </td><td style=\"text-align: right;\">0.790569</td></tr>\n",
       "<tr><td>training_function_c5fac_00010</td><td>TERMINATED</td><td>100.100.137.165:2147</td><td style=\"text-align: right;\">-1  </td><td style=\"text-align: right;\"> 0  </td><td style=\"text-align: right;\">     1</td><td style=\"text-align: right;\">         10.0483</td><td style=\"text-align: right;\">0.707107</td></tr>\n",
       "<tr><td>training_function_c5fac_00011</td><td>TERMINATED</td><td>100.100.137.165:2164</td><td style=\"text-align: right;\">-0.5</td><td style=\"text-align: right;\"> 0  </td><td style=\"text-align: right;\">     1</td><td style=\"text-align: right;\">         10.0486</td><td style=\"text-align: right;\">0.353553</td></tr>\n",
       "<tr><td>training_function_c5fac_00012</td><td>TERMINATED</td><td>100.100.137.165:2196</td><td style=\"text-align: right;\"> 0  </td><td style=\"text-align: right;\"> 0  </td><td style=\"text-align: right;\">     1</td><td style=\"text-align: right;\">         10.0495</td><td style=\"text-align: right;\">0       </td></tr>\n",
       "<tr><td>training_function_c5fac_00013</td><td>TERMINATED</td><td>100.100.137.165:2198</td><td style=\"text-align: right;\"> 0.5</td><td style=\"text-align: right;\"> 0  </td><td style=\"text-align: right;\">     1</td><td style=\"text-align: right;\">         10.0498</td><td style=\"text-align: right;\">0.353553</td></tr>\n",
       "<tr><td>training_function_c5fac_00014</td><td>TERMINATED</td><td>100.100.137.165:2230</td><td style=\"text-align: right;\"> 1  </td><td style=\"text-align: right;\"> 0  </td><td style=\"text-align: right;\">     1</td><td style=\"text-align: right;\">         10.0495</td><td style=\"text-align: right;\">0.707107</td></tr>\n",
       "<tr><td>training_function_c5fac_00015</td><td>TERMINATED</td><td>100.100.137.165:2232</td><td style=\"text-align: right;\">-1  </td><td style=\"text-align: right;\"> 0.5</td><td style=\"text-align: right;\">     1</td><td style=\"text-align: right;\">         10.0464</td><td style=\"text-align: right;\">0.790569</td></tr>\n",
       "<tr><td>training_function_c5fac_00016</td><td>TERMINATED</td><td>100.100.137.165:1982</td><td style=\"text-align: right;\">-0.5</td><td style=\"text-align: right;\"> 0.5</td><td style=\"text-align: right;\">     1</td><td style=\"text-align: right;\">         10.0477</td><td style=\"text-align: right;\">0.5     </td></tr>\n",
       "<tr><td>training_function_c5fac_00017</td><td>TERMINATED</td><td>100.100.137.165:2071</td><td style=\"text-align: right;\"> 0  </td><td style=\"text-align: right;\"> 0.5</td><td style=\"text-align: right;\">     1</td><td style=\"text-align: right;\">         10.0502</td><td style=\"text-align: right;\">0.353553</td></tr>\n",
       "<tr><td>training_function_c5fac_00018</td><td>TERMINATED</td><td>100.100.137.165:2073</td><td style=\"text-align: right;\"> 0.5</td><td style=\"text-align: right;\"> 0.5</td><td style=\"text-align: right;\">     1</td><td style=\"text-align: right;\">         10.0497</td><td style=\"text-align: right;\">0.5     </td></tr>\n",
       "<tr><td>training_function_c5fac_00019</td><td>TERMINATED</td><td>100.100.137.165:2069</td><td style=\"text-align: right;\"> 1  </td><td style=\"text-align: right;\"> 0.5</td><td style=\"text-align: right;\">     1</td><td style=\"text-align: right;\">         10.0498</td><td style=\"text-align: right;\">0.790569</td></tr>\n",
       "<tr><td>training_function_c5fac_00020</td><td>TERMINATED</td><td>100.100.137.165:2067</td><td style=\"text-align: right;\">-1  </td><td style=\"text-align: right;\"> 1  </td><td style=\"text-align: right;\">     1</td><td style=\"text-align: right;\">         10.05  </td><td style=\"text-align: right;\">1       </td></tr>\n",
       "<tr><td>training_function_c5fac_00021</td><td>TERMINATED</td><td>100.100.137.165:2123</td><td style=\"text-align: right;\">-0.5</td><td style=\"text-align: right;\"> 1  </td><td style=\"text-align: right;\">     1</td><td style=\"text-align: right;\">         10.0478</td><td style=\"text-align: right;\">0.790569</td></tr>\n",
       "<tr><td>training_function_c5fac_00022</td><td>TERMINATED</td><td>100.100.137.165:2230</td><td style=\"text-align: right;\"> 0  </td><td style=\"text-align: right;\"> 1  </td><td style=\"text-align: right;\">     1</td><td style=\"text-align: right;\">         10.0473</td><td style=\"text-align: right;\">0.707107</td></tr>\n",
       "<tr><td>training_function_c5fac_00023</td><td>TERMINATED</td><td>100.100.137.165:2090</td><td style=\"text-align: right;\"> 0.5</td><td style=\"text-align: right;\"> 1  </td><td style=\"text-align: right;\">     1</td><td style=\"text-align: right;\">         10.0502</td><td style=\"text-align: right;\">0.790569</td></tr>\n",
       "<tr><td>training_function_c5fac_00024</td><td>TERMINATED</td><td>100.100.137.165:2198</td><td style=\"text-align: right;\"> 1  </td><td style=\"text-align: right;\"> 1  </td><td style=\"text-align: right;\">     1</td><td style=\"text-align: right;\">         10.05  </td><td style=\"text-align: right;\">1       </td></tr>\n",
       "</tbody>\n",
       "</table>\n",
       "  </div>\n",
       "</div>\n",
       "<style>\n",
       ".tuneStatus {\n",
       "  color: var(--jp-ui-font-color1);\n",
       "}\n",
       ".tuneStatus .systemInfo {\n",
       "  display: flex;\n",
       "  flex-direction: column;\n",
       "}\n",
       ".tuneStatus td {\n",
       "  white-space: nowrap;\n",
       "}\n",
       ".tuneStatus .trialStatus {\n",
       "  display: flex;\n",
       "  flex-direction: column;\n",
       "}\n",
       ".tuneStatus h3 {\n",
       "  font-weight: bold;\n",
       "}\n",
       ".tuneStatus .hDivider {\n",
       "  border-bottom-width: var(--jp-border-width);\n",
       "  border-bottom-color: var(--jp-border-color0);\n",
       "  border-bottom-style: solid;\n",
       "}\n",
       ".tuneStatus .vDivider {\n",
       "  border-left-width: var(--jp-border-width);\n",
       "  border-left-color: var(--jp-border-color0);\n",
       "  border-left-style: solid;\n",
       "  margin: 0.5em 1em 0.5em 1em;\n",
       "}\n",
       "</style>\n"
      ],
      "text/plain": [
       "<IPython.core.display.HTML object>"
      ]
     },
     "metadata": {},
     "output_type": "display_data"
    },
    {
     "data": {
      "text/html": [
       "<div class=\"trialProgress\">\n",
       "  <h3>Trial Progress</h3>\n",
       "  <table>\n",
       "<thead>\n",
       "<tr><th>Trial name                   </th><th>date               </th><th>done  </th><th>episodes_total  </th><th>experiment_id                   </th><th>experiment_tag       </th><th>hostname        </th><th style=\"text-align: right;\">  iterations_since_restore</th><th>node_ip        </th><th style=\"text-align: right;\">  pid</th><th style=\"text-align: right;\">   score</th><th style=\"text-align: right;\">  time_since_restore</th><th style=\"text-align: right;\">  time_this_iter_s</th><th style=\"text-align: right;\">  time_total_s</th><th style=\"text-align: right;\">  timestamp</th><th style=\"text-align: right;\">  timesteps_since_restore</th><th>timesteps_total  </th><th style=\"text-align: right;\">  training_iteration</th><th>trial_id   </th><th style=\"text-align: right;\">  warmup_time</th></tr>\n",
       "</thead>\n",
       "<tbody>\n",
       "<tr><td>training_function_c5fac_00000</td><td>2023-10-05_18-12-55</td><td>True  </td><td>                </td><td>30665c1445ab4b8a91cd627afb4d253e</td><td>0_x=-1,y=-1          </td><td>0gnd39tczbn8ubas</td><td style=\"text-align: right;\">                         1</td><td>100.100.137.165</td><td style=\"text-align: right;\"> 1982</td><td style=\"text-align: right;\">1       </td><td style=\"text-align: right;\">             10.0486</td><td style=\"text-align: right;\">           10.0486</td><td style=\"text-align: right;\">       10.0486</td><td style=\"text-align: right;\"> 1696529575</td><td style=\"text-align: right;\">                        0</td><td>                 </td><td style=\"text-align: right;\">                   1</td><td>c5fac_00000</td><td style=\"text-align: right;\">   0.00277567</td></tr>\n",
       "<tr><td>training_function_c5fac_00001</td><td>2023-10-05_18-13-02</td><td>True  </td><td>                </td><td>3742531de8124074ad47f1367cafb933</td><td>1_x=-0.5000,y=-1     </td><td>0gnd39tczbn8ubas</td><td style=\"text-align: right;\">                         1</td><td>100.100.137.165</td><td style=\"text-align: right;\"> 2067</td><td style=\"text-align: right;\">0.790569</td><td style=\"text-align: right;\">             10.0488</td><td style=\"text-align: right;\">           10.0488</td><td style=\"text-align: right;\">       10.0488</td><td style=\"text-align: right;\"> 1696529582</td><td style=\"text-align: right;\">                        0</td><td>                 </td><td style=\"text-align: right;\">                   1</td><td>c5fac_00001</td><td style=\"text-align: right;\">   0.00358033</td></tr>\n",
       "<tr><td>training_function_c5fac_00002</td><td>2023-10-05_18-13-02</td><td>True  </td><td>                </td><td>71f51b170ac54fd49b74043bdfc7fb59</td><td>2_x=0,y=-1           </td><td>0gnd39tczbn8ubas</td><td style=\"text-align: right;\">                         1</td><td>100.100.137.165</td><td style=\"text-align: right;\"> 2069</td><td style=\"text-align: right;\">0.707107</td><td style=\"text-align: right;\">             10.0463</td><td style=\"text-align: right;\">           10.0463</td><td style=\"text-align: right;\">       10.0463</td><td style=\"text-align: right;\"> 1696529582</td><td style=\"text-align: right;\">                        0</td><td>                 </td><td style=\"text-align: right;\">                   1</td><td>c5fac_00002</td><td style=\"text-align: right;\">   0.00319099</td></tr>\n",
       "<tr><td>training_function_c5fac_00003</td><td>2023-10-05_18-13-02</td><td>True  </td><td>                </td><td>f8dbecb27abd47e2b8c2ae320811765e</td><td>3_x=0.5000,y=-1      </td><td>0gnd39tczbn8ubas</td><td style=\"text-align: right;\">                         1</td><td>100.100.137.165</td><td style=\"text-align: right;\"> 2071</td><td style=\"text-align: right;\">0.790569</td><td style=\"text-align: right;\">             10.0502</td><td style=\"text-align: right;\">           10.0502</td><td style=\"text-align: right;\">       10.0502</td><td style=\"text-align: right;\"> 1696529582</td><td style=\"text-align: right;\">                        0</td><td>                 </td><td style=\"text-align: right;\">                   1</td><td>c5fac_00003</td><td style=\"text-align: right;\">   0.00374627</td></tr>\n",
       "<tr><td>training_function_c5fac_00004</td><td>2023-10-05_18-13-02</td><td>True  </td><td>                </td><td>2c6acc6efe1741cfbb320dc02ebcb19b</td><td>4_x=1,y=-1           </td><td>0gnd39tczbn8ubas</td><td style=\"text-align: right;\">                         1</td><td>100.100.137.165</td><td style=\"text-align: right;\"> 2073</td><td style=\"text-align: right;\">1       </td><td style=\"text-align: right;\">             10.0496</td><td style=\"text-align: right;\">           10.0496</td><td style=\"text-align: right;\">       10.0496</td><td style=\"text-align: right;\"> 1696529582</td><td style=\"text-align: right;\">                        0</td><td>                 </td><td style=\"text-align: right;\">                   1</td><td>c5fac_00004</td><td style=\"text-align: right;\">   0.00364256</td></tr>\n",
       "<tr><td>training_function_c5fac_00005</td><td>2023-10-05_18-13-02</td><td>True  </td><td>                </td><td>f00225a91c6c437590f005bebf803203</td><td>5_x=-1,y=-0.5000     </td><td>0gnd39tczbn8ubas</td><td style=\"text-align: right;\">                         1</td><td>100.100.137.165</td><td style=\"text-align: right;\"> 2090</td><td style=\"text-align: right;\">0.790569</td><td style=\"text-align: right;\">             10.0495</td><td style=\"text-align: right;\">           10.0495</td><td style=\"text-align: right;\">       10.0495</td><td style=\"text-align: right;\"> 1696529582</td><td style=\"text-align: right;\">                        0</td><td>                 </td><td style=\"text-align: right;\">                   1</td><td>c5fac_00005</td><td style=\"text-align: right;\">   0.00295949</td></tr>\n",
       "<tr><td>training_function_c5fac_00006</td><td>2023-10-05_18-13-02</td><td>True  </td><td>                </td><td>b05a2c4bc0d34012a02e84885fc51dd6</td><td>6_x=-0.5000,y=-0.5000</td><td>0gnd39tczbn8ubas</td><td style=\"text-align: right;\">                         1</td><td>100.100.137.165</td><td style=\"text-align: right;\"> 2123</td><td style=\"text-align: right;\">0.5     </td><td style=\"text-align: right;\">             10.0466</td><td style=\"text-align: right;\">           10.0466</td><td style=\"text-align: right;\">       10.0466</td><td style=\"text-align: right;\"> 1696529582</td><td style=\"text-align: right;\">                        0</td><td>                 </td><td style=\"text-align: right;\">                   1</td><td>c5fac_00006</td><td style=\"text-align: right;\">   0.00326896</td></tr>\n",
       "<tr><td>training_function_c5fac_00007</td><td>2023-10-05_18-13-02</td><td>True  </td><td>                </td><td>ae77028135544ca9ab1475127df5b195</td><td>7_x=0,y=-0.5000      </td><td>0gnd39tczbn8ubas</td><td style=\"text-align: right;\">                         1</td><td>100.100.137.165</td><td style=\"text-align: right;\"> 2124</td><td style=\"text-align: right;\">0.353553</td><td style=\"text-align: right;\">             10.0475</td><td style=\"text-align: right;\">           10.0475</td><td style=\"text-align: right;\">       10.0475</td><td style=\"text-align: right;\"> 1696529582</td><td style=\"text-align: right;\">                        0</td><td>                 </td><td style=\"text-align: right;\">                   1</td><td>c5fac_00007</td><td style=\"text-align: right;\">   0.00376749</td></tr>\n",
       "<tr><td>training_function_c5fac_00008</td><td>2023-10-05_18-13-02</td><td>True  </td><td>                </td><td>2c2d94c158f84a63b12b6f0ae01c28df</td><td>8_x=0.5000,y=-0.5000 </td><td>0gnd39tczbn8ubas</td><td style=\"text-align: right;\">                         1</td><td>100.100.137.165</td><td style=\"text-align: right;\"> 2126</td><td style=\"text-align: right;\">0.5     </td><td style=\"text-align: right;\">             10.0483</td><td style=\"text-align: right;\">           10.0483</td><td style=\"text-align: right;\">       10.0483</td><td style=\"text-align: right;\"> 1696529582</td><td style=\"text-align: right;\">                        0</td><td>                 </td><td style=\"text-align: right;\">                   1</td><td>c5fac_00008</td><td style=\"text-align: right;\">   0.00299907</td></tr>\n",
       "<tr><td>training_function_c5fac_00009</td><td>2023-10-05_18-13-02</td><td>True  </td><td>                </td><td>9d2b90767c77477ca2651e164139846c</td><td>9_x=1,y=-0.5000      </td><td>0gnd39tczbn8ubas</td><td style=\"text-align: right;\">                         1</td><td>100.100.137.165</td><td style=\"text-align: right;\"> 2143</td><td style=\"text-align: right;\">0.790569</td><td style=\"text-align: right;\">             10.047 </td><td style=\"text-align: right;\">           10.047 </td><td style=\"text-align: right;\">       10.047 </td><td style=\"text-align: right;\"> 1696529582</td><td style=\"text-align: right;\">                        0</td><td>                 </td><td style=\"text-align: right;\">                   1</td><td>c5fac_00009</td><td style=\"text-align: right;\">   0.0036757 </td></tr>\n",
       "<tr><td>training_function_c5fac_00010</td><td>2023-10-05_18-13-02</td><td>True  </td><td>                </td><td>adb3c41eb78b400e89d2c11644f2c981</td><td>10_x=-1,y=0          </td><td>0gnd39tczbn8ubas</td><td style=\"text-align: right;\">                         1</td><td>100.100.137.165</td><td style=\"text-align: right;\"> 2147</td><td style=\"text-align: right;\">0.707107</td><td style=\"text-align: right;\">             10.0483</td><td style=\"text-align: right;\">           10.0483</td><td style=\"text-align: right;\">       10.0483</td><td style=\"text-align: right;\"> 1696529582</td><td style=\"text-align: right;\">                        0</td><td>                 </td><td style=\"text-align: right;\">                   1</td><td>c5fac_00010</td><td style=\"text-align: right;\">   0.00292778</td></tr>\n",
       "<tr><td>training_function_c5fac_00011</td><td>2023-10-05_18-13-02</td><td>True  </td><td>                </td><td>729ffd6594394ff98fb1181897c0e048</td><td>11_x=-0.5000,y=0     </td><td>0gnd39tczbn8ubas</td><td style=\"text-align: right;\">                         1</td><td>100.100.137.165</td><td style=\"text-align: right;\"> 2164</td><td style=\"text-align: right;\">0.353553</td><td style=\"text-align: right;\">             10.0486</td><td style=\"text-align: right;\">           10.0486</td><td style=\"text-align: right;\">       10.0486</td><td style=\"text-align: right;\"> 1696529582</td><td style=\"text-align: right;\">                        0</td><td>                 </td><td style=\"text-align: right;\">                   1</td><td>c5fac_00011</td><td style=\"text-align: right;\">   0.00296998</td></tr>\n",
       "<tr><td>training_function_c5fac_00012</td><td>2023-10-05_18-13-02</td><td>True  </td><td>                </td><td>e471048d43714c32850175be4faa0d19</td><td>12_x=0,y=0           </td><td>0gnd39tczbn8ubas</td><td style=\"text-align: right;\">                         1</td><td>100.100.137.165</td><td style=\"text-align: right;\"> 2196</td><td style=\"text-align: right;\">0       </td><td style=\"text-align: right;\">             10.0495</td><td style=\"text-align: right;\">           10.0495</td><td style=\"text-align: right;\">       10.0495</td><td style=\"text-align: right;\"> 1696529582</td><td style=\"text-align: right;\">                        0</td><td>                 </td><td style=\"text-align: right;\">                   1</td><td>c5fac_00012</td><td style=\"text-align: right;\">   0.00233388</td></tr>\n",
       "<tr><td>training_function_c5fac_00013</td><td>2023-10-05_18-13-02</td><td>True  </td><td>                </td><td>340cf0c2f27240d690005dc2fb43a5c7</td><td>13_x=0.5000,y=0      </td><td>0gnd39tczbn8ubas</td><td style=\"text-align: right;\">                         1</td><td>100.100.137.165</td><td style=\"text-align: right;\"> 2198</td><td style=\"text-align: right;\">0.353553</td><td style=\"text-align: right;\">             10.0498</td><td style=\"text-align: right;\">           10.0498</td><td style=\"text-align: right;\">       10.0498</td><td style=\"text-align: right;\"> 1696529582</td><td style=\"text-align: right;\">                        0</td><td>                 </td><td style=\"text-align: right;\">                   1</td><td>c5fac_00013</td><td style=\"text-align: right;\">   0.00283885</td></tr>\n",
       "<tr><td>training_function_c5fac_00014</td><td>2023-10-05_18-13-02</td><td>True  </td><td>                </td><td>9843bffffab949049c8ad759d07bec8f</td><td>14_x=1,y=0           </td><td>0gnd39tczbn8ubas</td><td style=\"text-align: right;\">                         1</td><td>100.100.137.165</td><td style=\"text-align: right;\"> 2230</td><td style=\"text-align: right;\">0.707107</td><td style=\"text-align: right;\">             10.0495</td><td style=\"text-align: right;\">           10.0495</td><td style=\"text-align: right;\">       10.0495</td><td style=\"text-align: right;\"> 1696529582</td><td style=\"text-align: right;\">                        0</td><td>                 </td><td style=\"text-align: right;\">                   1</td><td>c5fac_00014</td><td style=\"text-align: right;\">   0.00250292</td></tr>\n",
       "<tr><td>training_function_c5fac_00015</td><td>2023-10-05_18-13-02</td><td>True  </td><td>                </td><td>12ea93d5aa7a42a896f9b1264c10c0e6</td><td>15_x=-1,y=0.5000     </td><td>0gnd39tczbn8ubas</td><td style=\"text-align: right;\">                         1</td><td>100.100.137.165</td><td style=\"text-align: right;\"> 2232</td><td style=\"text-align: right;\">0.790569</td><td style=\"text-align: right;\">             10.0464</td><td style=\"text-align: right;\">           10.0464</td><td style=\"text-align: right;\">       10.0464</td><td style=\"text-align: right;\"> 1696529582</td><td style=\"text-align: right;\">                        0</td><td>                 </td><td style=\"text-align: right;\">                   1</td><td>c5fac_00015</td><td style=\"text-align: right;\">   0.00271344</td></tr>\n",
       "<tr><td>training_function_c5fac_00016</td><td>2023-10-05_18-13-05</td><td>True  </td><td>                </td><td>30665c1445ab4b8a91cd627afb4d253e</td><td>16_x=-0.5000,y=0.5000</td><td>0gnd39tczbn8ubas</td><td style=\"text-align: right;\">                         1</td><td>100.100.137.165</td><td style=\"text-align: right;\"> 1982</td><td style=\"text-align: right;\">0.5     </td><td style=\"text-align: right;\">             10.0477</td><td style=\"text-align: right;\">           10.0477</td><td style=\"text-align: right;\">       10.0477</td><td style=\"text-align: right;\"> 1696529585</td><td style=\"text-align: right;\">                        0</td><td>                 </td><td style=\"text-align: right;\">                   1</td><td>c5fac_00016</td><td style=\"text-align: right;\">   0.00277567</td></tr>\n",
       "<tr><td>training_function_c5fac_00017</td><td>2023-10-05_18-13-12</td><td>True  </td><td>                </td><td>f8dbecb27abd47e2b8c2ae320811765e</td><td>17_x=0,y=0.5000      </td><td>0gnd39tczbn8ubas</td><td style=\"text-align: right;\">                         1</td><td>100.100.137.165</td><td style=\"text-align: right;\"> 2071</td><td style=\"text-align: right;\">0.353553</td><td style=\"text-align: right;\">             10.0502</td><td style=\"text-align: right;\">           10.0502</td><td style=\"text-align: right;\">       10.0502</td><td style=\"text-align: right;\"> 1696529592</td><td style=\"text-align: right;\">                        0</td><td>                 </td><td style=\"text-align: right;\">                   1</td><td>c5fac_00017</td><td style=\"text-align: right;\">   0.00374627</td></tr>\n",
       "<tr><td>training_function_c5fac_00018</td><td>2023-10-05_18-13-12</td><td>True  </td><td>                </td><td>2c6acc6efe1741cfbb320dc02ebcb19b</td><td>18_x=0.5000,y=0.5000 </td><td>0gnd39tczbn8ubas</td><td style=\"text-align: right;\">                         1</td><td>100.100.137.165</td><td style=\"text-align: right;\"> 2073</td><td style=\"text-align: right;\">0.5     </td><td style=\"text-align: right;\">             10.0497</td><td style=\"text-align: right;\">           10.0497</td><td style=\"text-align: right;\">       10.0497</td><td style=\"text-align: right;\"> 1696529592</td><td style=\"text-align: right;\">                        0</td><td>                 </td><td style=\"text-align: right;\">                   1</td><td>c5fac_00018</td><td style=\"text-align: right;\">   0.00364256</td></tr>\n",
       "<tr><td>training_function_c5fac_00019</td><td>2023-10-05_18-13-12</td><td>True  </td><td>                </td><td>71f51b170ac54fd49b74043bdfc7fb59</td><td>19_x=1,y=0.5000      </td><td>0gnd39tczbn8ubas</td><td style=\"text-align: right;\">                         1</td><td>100.100.137.165</td><td style=\"text-align: right;\"> 2069</td><td style=\"text-align: right;\">0.790569</td><td style=\"text-align: right;\">             10.0498</td><td style=\"text-align: right;\">           10.0498</td><td style=\"text-align: right;\">       10.0498</td><td style=\"text-align: right;\"> 1696529592</td><td style=\"text-align: right;\">                        0</td><td>                 </td><td style=\"text-align: right;\">                   1</td><td>c5fac_00019</td><td style=\"text-align: right;\">   0.00319099</td></tr>\n",
       "<tr><td>training_function_c5fac_00020</td><td>2023-10-05_18-13-12</td><td>True  </td><td>                </td><td>3742531de8124074ad47f1367cafb933</td><td>20_x=-1,y=1          </td><td>0gnd39tczbn8ubas</td><td style=\"text-align: right;\">                         1</td><td>100.100.137.165</td><td style=\"text-align: right;\"> 2067</td><td style=\"text-align: right;\">1       </td><td style=\"text-align: right;\">             10.05  </td><td style=\"text-align: right;\">           10.05  </td><td style=\"text-align: right;\">       10.05  </td><td style=\"text-align: right;\"> 1696529592</td><td style=\"text-align: right;\">                        0</td><td>                 </td><td style=\"text-align: right;\">                   1</td><td>c5fac_00020</td><td style=\"text-align: right;\">   0.00358033</td></tr>\n",
       "<tr><td>training_function_c5fac_00021</td><td>2023-10-05_18-13-12</td><td>True  </td><td>                </td><td>b05a2c4bc0d34012a02e84885fc51dd6</td><td>21_x=-0.5000,y=1     </td><td>0gnd39tczbn8ubas</td><td style=\"text-align: right;\">                         1</td><td>100.100.137.165</td><td style=\"text-align: right;\"> 2123</td><td style=\"text-align: right;\">0.790569</td><td style=\"text-align: right;\">             10.0478</td><td style=\"text-align: right;\">           10.0478</td><td style=\"text-align: right;\">       10.0478</td><td style=\"text-align: right;\"> 1696529592</td><td style=\"text-align: right;\">                        0</td><td>                 </td><td style=\"text-align: right;\">                   1</td><td>c5fac_00021</td><td style=\"text-align: right;\">   0.00326896</td></tr>\n",
       "<tr><td>training_function_c5fac_00022</td><td>2023-10-05_18-13-12</td><td>True  </td><td>                </td><td>9843bffffab949049c8ad759d07bec8f</td><td>22_x=0,y=1           </td><td>0gnd39tczbn8ubas</td><td style=\"text-align: right;\">                         1</td><td>100.100.137.165</td><td style=\"text-align: right;\"> 2230</td><td style=\"text-align: right;\">0.707107</td><td style=\"text-align: right;\">             10.0473</td><td style=\"text-align: right;\">           10.0473</td><td style=\"text-align: right;\">       10.0473</td><td style=\"text-align: right;\"> 1696529592</td><td style=\"text-align: right;\">                        0</td><td>                 </td><td style=\"text-align: right;\">                   1</td><td>c5fac_00022</td><td style=\"text-align: right;\">   0.00250292</td></tr>\n",
       "<tr><td>training_function_c5fac_00023</td><td>2023-10-05_18-13-12</td><td>True  </td><td>                </td><td>f00225a91c6c437590f005bebf803203</td><td>23_x=0.5000,y=1      </td><td>0gnd39tczbn8ubas</td><td style=\"text-align: right;\">                         1</td><td>100.100.137.165</td><td style=\"text-align: right;\"> 2090</td><td style=\"text-align: right;\">0.790569</td><td style=\"text-align: right;\">             10.0502</td><td style=\"text-align: right;\">           10.0502</td><td style=\"text-align: right;\">       10.0502</td><td style=\"text-align: right;\"> 1696529592</td><td style=\"text-align: right;\">                        0</td><td>                 </td><td style=\"text-align: right;\">                   1</td><td>c5fac_00023</td><td style=\"text-align: right;\">   0.00295949</td></tr>\n",
       "<tr><td>training_function_c5fac_00024</td><td>2023-10-05_18-13-13</td><td>True  </td><td>                </td><td>340cf0c2f27240d690005dc2fb43a5c7</td><td>24_x=1,y=1           </td><td>0gnd39tczbn8ubas</td><td style=\"text-align: right;\">                         1</td><td>100.100.137.165</td><td style=\"text-align: right;\"> 2198</td><td style=\"text-align: right;\">1       </td><td style=\"text-align: right;\">             10.05  </td><td style=\"text-align: right;\">           10.05  </td><td style=\"text-align: right;\">       10.05  </td><td style=\"text-align: right;\"> 1696529593</td><td style=\"text-align: right;\">                        0</td><td>                 </td><td style=\"text-align: right;\">                   1</td><td>c5fac_00024</td><td style=\"text-align: right;\">   0.00283885</td></tr>\n",
       "</tbody>\n",
       "</table>\n",
       "</div>\n",
       "<style>\n",
       ".trialProgress {\n",
       "  display: flex;\n",
       "  flex-direction: column;\n",
       "  color: var(--jp-ui-font-color1);\n",
       "}\n",
       ".trialProgress h3 {\n",
       "  font-weight: bold;\n",
       "}\n",
       ".trialProgress td {\n",
       "  white-space: nowrap;\n",
       "}\n",
       "</style>\n"
      ],
      "text/plain": [
       "<IPython.core.display.HTML object>"
      ]
     },
     "metadata": {},
     "output_type": "display_data"
    },
    {
     "name": "stderr",
     "output_type": "stream",
     "text": [
      "2023-10-05 18:13:13,386\tINFO tune.py:762 -- Total run time: 32.17 seconds (31.55 seconds for the tuning loop).\n"
     ]
    },
    {
     "name": "stdout",
     "output_type": "stream",
     "text": [
      "<ray.tune.analysis.experiment_analysis.ExperimentAnalysis object at 0x7fb444af1910>\n"
     ]
    }
   ],
   "source": [
    "result = tune.run(\n",
    "    training_function,\n",
    "    config={\n",
    "        \"x\": tune.grid_search([-1, -.5, 0, .5, 1]),\n",
    "        \"y\": tune.grid_search([-1, -.5, 0, .5, 1])\n",
    "    })\n",
    "print(result)"
   ]
  },
  {
   "cell_type": "code",
   "execution_count": 20,
   "id": "03f6500f-3680-4c03-a3c7-21962b1fe79e",
   "metadata": {
    "tags": []
   },
   "outputs": [
    {
     "name": "stdout",
     "output_type": "stream",
     "text": [
      "{'x': 0, 'y': 0}\n"
     ]
    }
   ],
   "source": [
    "print(result.get_best_config(metric=\"score\", mode=\"min\"))"
   ]
  },
  {
   "cell_type": "code",
   "execution_count": 21,
   "id": "bb9200da-cedd-45ae-96e2-3665101cff49",
   "metadata": {
    "tags": []
   },
   "outputs": [
    {
     "name": "stderr",
     "output_type": "stream",
     "text": [
      "2023-10-05 18:13:23.848512: E tensorflow/compiler/xla/stream_executor/cuda/cuda_dnn.cc:9342] Unable to register cuDNN factory: Attempting to register factory for plugin cuDNN when one has already been registered\n",
      "2023-10-05 18:13:23.848554: E tensorflow/compiler/xla/stream_executor/cuda/cuda_fft.cc:609] Unable to register cuFFT factory: Attempting to register factory for plugin cuFFT when one has already been registered\n",
      "2023-10-05 18:13:23.848588: E tensorflow/compiler/xla/stream_executor/cuda/cuda_blas.cc:1518] Unable to register cuBLAS factory: Attempting to register factory for plugin cuBLAS when one has already been registered\n",
      "2023-10-05 18:13:23.938488: I tensorflow/core/platform/cpu_feature_guard.cc:182] This TensorFlow binary is optimized to use available CPU instructions in performance-critical operations.\n",
      "To enable the following instructions: AVX2 AVX512F FMA, in other operations, rebuild TensorFlow with the appropriate compiler flags.\n",
      "/home/cdsw/.local/lib/python3.9/site-packages/tensorflow/python/framework/dtypes.py:35: DeprecationWarning: ml_dtypes.float8_e4m3b11 is deprecated. Use ml_dtypes.float8_e4m3b11fnuz\n",
      "  from tensorflow.tsl.python.lib.core import pywrap_ml_dtypes\n",
      "2023-10-05 18:13:35.807608: W tensorflow/compiler/tf2tensorrt/utils/py_utils.cc:38] TF-TRT Warning: Could not find TensorRT\n"
     ]
    }
   ],
   "source": [
    "from ray import serve\n",
    "from transformers import pipeline \n",
    "import requests"
   ]
  },
  {
   "cell_type": "code",
   "execution_count": 22,
   "id": "20492649-a82a-4c69-a513-1a3469ec37e4",
   "metadata": {
    "tags": []
   },
   "outputs": [
    {
     "data": {
      "text/plain": [
       "'100.100.137.165'"
      ]
     },
     "execution_count": 22,
     "metadata": {},
     "output_type": "execute_result"
    }
   ],
   "source": [
    "import os\n",
    "os.environ[\"CDSW_IP_ADDRESS\"]"
   ]
  },
  {
   "cell_type": "code",
   "execution_count": 23,
   "id": "b0a4d759-3add-4f35-94e2-94f74e7ff4b3",
   "metadata": {
    "tags": []
   },
   "outputs": [
    {
     "data": {
      "text/plain": [
       "'8100'"
      ]
     },
     "execution_count": 23,
     "metadata": {},
     "output_type": "execute_result"
    }
   ],
   "source": [
    "os.environ[\"CDSW_READONLY_PORT\"]"
   ]
  },
  {
   "cell_type": "code",
   "execution_count": 24,
   "id": "293a9cda-c4a9-420f-9bf3-46a37b16c951",
   "metadata": {
    "tags": []
   },
   "outputs": [
    {
     "name": "stderr",
     "output_type": "stream",
     "text": [
      "\u001b[2m\u001b[36m(ServeController pid=3481)\u001b[0m INFO 2023-10-05 18:15:06,528 controller 3481 http_state.py:129 - Starting HTTP proxy with name 'SERVE_CONTROLLER_ACTOR:pyVaeW:SERVE_PROXY_ACTOR-64d8e25a09abd344b5eee6d73d8b53036cac5592163a0cef5f2c1398' on node '64d8e25a09abd344b5eee6d73d8b53036cac5592163a0cef5f2c1398' listening on '127.0.0.1:8100'\n"
     ]
    },
    {
     "data": {
      "text/plain": [
       "<ray.serve._private.client.ServeControllerClient at 0x7fb3e34a0940>"
      ]
     },
     "execution_count": 24,
     "metadata": {},
     "output_type": "execute_result"
    },
    {
     "name": "stderr",
     "output_type": "stream",
     "text": [
      "\u001b[2m\u001b[36m(HTTPProxyActor pid=3542)\u001b[0m INFO:     Started server process [3542]\n"
     ]
    }
   ],
   "source": [
    "serve.start(http_options={'port':os.environ[\"CDSW_READONLY_PORT\"], 'location':'EveryNode'})"
   ]
  },
  {
   "cell_type": "code",
   "execution_count": 25,
   "id": "52c88a7c-e9fd-423b-adf4-132b4160c06a",
   "metadata": {},
   "outputs": [],
   "source": [
    "@serve.deployment\n",
    "def model(request):\n",
    "    language_model = pipeline(\"text-generation\", model=\"gpt2\")\n",
    "    query = request.query_params[\"query\"]\n",
    "    return language_model(quert, max_length=100)"
   ]
  },
  {
   "cell_type": "code",
   "execution_count": 26,
   "id": "42afbc1b-0f19-4174-acd1-bfa7667a55bb",
   "metadata": {},
   "outputs": [
    {
     "name": "stderr",
     "output_type": "stream",
     "text": [
      "\u001b[2m\u001b[36m(ServeController pid=3481)\u001b[0m INFO 2023-10-05 18:15:18,042 controller 3481 deployment_state.py:1310 - Adding 1 replica to deployment 'model'.\n",
      "\u001b[2m\u001b[36m(ServeReplica:model pid=3612)\u001b[0m 2023-10-05 18:15:20.625668: E tensorflow/compiler/xla/stream_executor/cuda/cuda_dnn.cc:9342] Unable to register cuDNN factory: Attempting to register factory for plugin cuDNN when one has already been registered\n",
      "\u001b[2m\u001b[36m(ServeReplica:model pid=3612)\u001b[0m 2023-10-05 18:15:20.625701: E tensorflow/compiler/xla/stream_executor/cuda/cuda_fft.cc:609] Unable to register cuFFT factory: Attempting to register factory for plugin cuFFT when one has already been registered\n",
      "\u001b[2m\u001b[36m(ServeReplica:model pid=3612)\u001b[0m 2023-10-05 18:15:20.625731: E tensorflow/compiler/xla/stream_executor/cuda/cuda_blas.cc:1518] Unable to register cuBLAS factory: Attempting to register factory for plugin cuBLAS when one has already been registered\n",
      "\u001b[2m\u001b[36m(ServeReplica:model pid=3612)\u001b[0m 2023-10-05 18:15:20.634025: I tensorflow/core/platform/cpu_feature_guard.cc:182] This TensorFlow binary is optimized to use available CPU instructions in performance-critical operations.\n",
      "\u001b[2m\u001b[36m(ServeReplica:model pid=3612)\u001b[0m To enable the following instructions: AVX2 AVX512F FMA, in other operations, rebuild TensorFlow with the appropriate compiler flags.\n",
      "\u001b[2m\u001b[36m(ServeReplica:model pid=3612)\u001b[0m 2023-10-05 18:15:22.820644: W tensorflow/compiler/tf2tensorrt/utils/py_utils.cc:38] TF-TRT Warning: Could not find TensorRT\n"
     ]
    }
   ],
   "source": [
    "model.deploy()"
   ]
  },
  {
   "cell_type": "code",
   "execution_count": 27,
   "id": "1eadc381-f31c-4f2f-8452-4ada47aa24c2",
   "metadata": {},
   "outputs": [
    {
     "name": "stderr",
     "output_type": "stream",
     "text": [
      "\u001b[2m\u001b[36m(ServeReplica:model pid=3612)\u001b[0m All PyTorch model weights were used when initializing TFGPT2LMHeadModel.\n",
      "\u001b[2m\u001b[36m(ServeReplica:model pid=3612)\u001b[0m \n",
      "\u001b[2m\u001b[36m(ServeReplica:model pid=3612)\u001b[0m All the weights of TFGPT2LMHeadModel were initialized from the PyTorch model.\n",
      "\u001b[2m\u001b[36m(ServeReplica:model pid=3612)\u001b[0m If your task is similar to the task the model of the checkpoint was trained on, you can already use TFGPT2LMHeadModel for predictions without further training.\n"
     ]
    },
    {
     "name": "stdout",
     "output_type": "stream",
     "text": [
      "Task Error. Traceback: \u001b[36mray::ServeReplica:model()\u001b[39m (pid=3612, ip=100.100.137.165)\n",
      "  File \"/home/cdsw/.local/lib/python3.9/site-packages/ray/serve/_private/utils.py\", line 238, in wrap_to_ray_error\n",
      "    raise exception\n",
      "  File \"/home/cdsw/.local/lib/python3.9/site-packages/ray/serve/_private/replica.py\", line 443, in invoke_single\n",
      "    result = await method_to_call(*args, **kwargs)\n",
      "  File \"/tmp/ipykernel_239/3971627431.py\", line 5, in model\n",
      "NameError: name 'quert' is not defined.\n"
     ]
    },
    {
     "name": "stderr",
     "output_type": "stream",
     "text": [
      "\u001b[2m\u001b[36m(HTTPProxyActor pid=3542)\u001b[0m INFO 2023-10-05 18:15:39,176 http_proxy 100.100.137.165 http_proxy.py:361 - GET /model 500 6337.3ms\n",
      "\u001b[2m\u001b[36m(HTTPProxyActor pid=3542)\u001b[0m Task exception was never retrieved\n",
      "\u001b[2m\u001b[36m(HTTPProxyActor pid=3542)\u001b[0m future: <Task finished name='Task-35' coro=<_wrap_awaitable() done, defined at /usr/local/lib/python3.9/asyncio/tasks.py:681> exception=RayTaskError(NameError)(NameError(\"name 'quert' is not defined\"))>\n",
      "\u001b[2m\u001b[36m(HTTPProxyActor pid=3542)\u001b[0m Traceback (most recent call last):\n",
      "\u001b[2m\u001b[36m(HTTPProxyActor pid=3542)\u001b[0m   File \"/usr/local/lib/python3.9/asyncio/tasks.py\", line 688, in _wrap_awaitable\n",
      "\u001b[2m\u001b[36m(HTTPProxyActor pid=3542)\u001b[0m     return (yield from awaitable.__await__())\n",
      "\u001b[2m\u001b[36m(HTTPProxyActor pid=3542)\u001b[0m ray.exceptions.RayTaskError(NameError): \u001b[36mray::ServeReplica:model()\u001b[39m (pid=3612, ip=100.100.137.165)\n",
      "\u001b[2m\u001b[36m(HTTPProxyActor pid=3542)\u001b[0m   File \"/home/cdsw/.local/lib/python3.9/site-packages/ray/serve/_private/utils.py\", line 238, in wrap_to_ray_error\n",
      "\u001b[2m\u001b[36m(HTTPProxyActor pid=3542)\u001b[0m     raise exception\n",
      "\u001b[2m\u001b[36m(HTTPProxyActor pid=3542)\u001b[0m   File \"/home/cdsw/.local/lib/python3.9/site-packages/ray/serve/_private/replica.py\", line 443, in invoke_single\n",
      "\u001b[2m\u001b[36m(HTTPProxyActor pid=3542)\u001b[0m     result = await method_to_call(*args, **kwargs)\n",
      "\u001b[2m\u001b[36m(HTTPProxyActor pid=3542)\u001b[0m   File \"/tmp/ipykernel_239/3971627431.py\", line 5, in model\n",
      "\u001b[2m\u001b[36m(HTTPProxyActor pid=3542)\u001b[0m NameError: name 'quert' is not defined\n",
      "\u001b[2m\u001b[36m(ServeReplica:model pid=3612)\u001b[0m ERROR 2023-10-05 18:15:39,146 model model#AwTRwL replica.py:461 - Request failed due to NameError:\n",
      "\u001b[2m\u001b[36m(ServeReplica:model pid=3612)\u001b[0m Traceback (most recent call last):\n",
      "\u001b[2m\u001b[36m(ServeReplica:model pid=3612)\u001b[0m   File \"/home/cdsw/.local/lib/python3.9/site-packages/ray/serve/_private/replica.py\", line 443, in invoke_single\n",
      "\u001b[2m\u001b[36m(ServeReplica:model pid=3612)\u001b[0m     result = await method_to_call(*args, **kwargs)\n",
      "\u001b[2m\u001b[36m(ServeReplica:model pid=3612)\u001b[0m   File \"/home/cdsw/.local/lib/python3.9/site-packages/ray/_private/async_compat.py\", line 43, in wrapper\n",
      "\u001b[2m\u001b[36m(ServeReplica:model pid=3612)\u001b[0m     return func(*args, **kwargs)\n",
      "\u001b[2m\u001b[36m(ServeReplica:model pid=3612)\u001b[0m   File \"/tmp/ipykernel_239/3971627431.py\", line 5, in model\n",
      "\u001b[2m\u001b[36m(ServeReplica:model pid=3612)\u001b[0m NameError: name 'quert' is not defined\n",
      "\u001b[2m\u001b[36m(ServeReplica:model pid=3612)\u001b[0m INFO 2023-10-05 18:15:39,174 model model#AwTRwL replica.py:505 - HANDLE __call__ ERROR 6332.3ms\n",
      "*** SIGTERM received at time=1696533365 on cpu 15 ***\n",
      "PC: @     0x7fb60d83e123  (unknown)  __clone\n",
      "    @     0x7fb60d762090       3680  (unknown)\n",
      "    @ ... and at least 1 more frames\n",
      "[2023-10-05 19:16:05,608 E 239 1672] logging.cc:361: *** SIGTERM received at time=1696533365 on cpu 15 ***\n",
      "[2023-10-05 19:16:05,608 E 239 1672] logging.cc:361: PC: @     0x7fb60d83e123  (unknown)  __clone\n",
      "[2023-10-05 19:16:05,608 E 239 1672] logging.cc:361:     @     0x7fb60d762090       3680  (unknown)\n",
      "[2023-10-05 19:16:05,608 E 239 1672] logging.cc:361:     @ ... and at least 1 more frames\n"
     ]
    }
   ],
   "source": [
    "query = \"what is the meaning of life?\"\n",
    "response = requests.get(f\"http://localhost:8100/model?query={query}\")\n",
    "print(response.text)"
   ]
  },
  {
   "cell_type": "code",
   "execution_count": null,
   "id": "d56a0d71-87b7-47e0-902d-ff97bf5fb60c",
   "metadata": {},
   "outputs": [],
   "source": []
  },
  {
   "cell_type": "code",
   "execution_count": null,
   "id": "a7747e4f-a923-443f-b1d4-ca137d720464",
   "metadata": {},
   "outputs": [],
   "source": []
  },
  {
   "cell_type": "code",
   "execution_count": null,
   "id": "05b2195e-b5ac-4f70-b3ac-ec731e449703",
   "metadata": {},
   "outputs": [],
   "source": []
  },
  {
   "cell_type": "code",
   "execution_count": null,
   "id": "1c1d19ba-3f5d-40a0-8a33-d8bf495927f7",
   "metadata": {},
   "outputs": [],
   "source": []
  },
  {
   "cell_type": "code",
   "execution_count": null,
   "id": "2daf1586-c88b-48b9-b6f3-28e708f78f19",
   "metadata": {},
   "outputs": [],
   "source": []
  },
  {
   "cell_type": "code",
   "execution_count": null,
   "id": "de5b0382-fd3f-4373-8111-ddd6902d6c27",
   "metadata": {},
   "outputs": [],
   "source": []
  },
  {
   "cell_type": "code",
   "execution_count": 31,
   "id": "fd5c4da2-748e-400f-9f24-e111477a636e",
   "metadata": {
    "tags": []
   },
   "outputs": [],
   "source": [
    "ray.shutdown()"
   ]
  },
  {
   "cell_type": "code",
   "execution_count": null,
   "id": "902908e6-8aea-4939-8939-0b1ed854dab1",
   "metadata": {},
   "outputs": [],
   "source": []
  }
 ],
 "metadata": {
  "kernelspec": {
   "display_name": "Python 3 (ipykernel)",
   "language": "python",
   "name": "python3"
  },
  "language_info": {
   "codemirror_mode": {
    "name": "ipython",
    "version": 3
   },
   "file_extension": ".py",
   "mimetype": "text/x-python",
   "name": "python",
   "nbconvert_exporter": "python",
   "pygments_lexer": "ipython3",
   "version": "3.9.16"
  }
 },
 "nbformat": 4,
 "nbformat_minor": 5
}
