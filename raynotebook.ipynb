{
 "cells": [
  {
   "cell_type": "code",
   "execution_count": null,
   "id": "34fe18c5-5f91-4673-ad2c-e8e32422e978",
   "metadata": {},
   "outputs": [],
   "source": [
    "!pip3 install -I git+https://github.com/cloudera/cmlextensions.git\n",
    "!pip3 install -I ray\n",
    "!pip3 install -I modin[ray]"
   ]
  },
  {
   "cell_type": "code",
   "execution_count": 1,
   "id": "ec0770eb-4847-4c0c-9aa4-d2614c31c10f",
   "metadata": {},
   "outputs": [
    {
     "name": "stderr",
     "output_type": "stream",
     "text": [
      "2023-09-28 01:41:03,891\tINFO util.py:159 -- Missing packages: ['ipywidgets']. Run `pip install -U ipywidgets`, then restart the notebook server for rich notebook output.\n"
     ]
    }
   ],
   "source": [
    "import cmlextensions.ray_cluster as rc\n",
    "import ray\n",
    "import os"
   ]
  },
  {
   "cell_type": "code",
   "execution_count": 3,
   "id": "568a02a9-ed7f-4fe3-a09f-11a901c2f10f",
   "metadata": {},
   "outputs": [
    {
     "name": "stdout",
     "output_type": "stream",
     "text": [
      "Starting ray head...\n",
      "Starting 3 ray workers...\n",
      "\n",
      "--------------------\n",
      "Ray cluster started\n",
      "--------------------\n",
      "\n",
      "The Ray dashboard is running at\n",
      "https://7w2j9xlv689ro6ch.ml-b74f8940-b97.go01-dem.ylcu-atmi.cloudera.site/\n",
      "\n",
      "To connect to this Ray cluster from this CML Session,\n",
      "use the following Python code:\n",
      "  import ray\n",
      "  ray.init(address='ray://100.100.137.175:10001')\n",
      "\n"
     ]
    }
   ],
   "source": [
    "cluster = rc.RayCluster( num_workers=3,\n",
    "                         worker_cpu=2, worker_memory=4, worker_nvidia_gpu=0, \n",
    "                         head_cpu=2, head_memory=4, head_nvidia_gpu=0                       \n",
    "                       )\n",
    "cluster.init()"
   ]
  },
  {
   "cell_type": "code",
   "execution_count": null,
   "id": "720fa72a-e5fe-4bb6-9bb3-35a860c44ee6",
   "metadata": {},
   "outputs": [],
   "source": []
  }
 ],
 "metadata": {
  "kernelspec": {
   "display_name": "Python 3 (ipykernel)",
   "language": "python",
   "name": "python3"
  },
  "language_info": {
   "codemirror_mode": {
    "name": "ipython",
    "version": 3
   },
   "file_extension": ".py",
   "mimetype": "text/x-python",
   "name": "python",
   "nbconvert_exporter": "python",
   "pygments_lexer": "ipython3",
   "version": "3.9.11"
  }
 },
 "nbformat": 4,
 "nbformat_minor": 5
}
